{
  "nbformat": 4,
  "nbformat_minor": 0,
  "metadata": {
    "colab": {
      "provenance": [],
      "collapsed_sections": [
        "qSCBtAFJF6kx",
        "QUAr3wyWGH0P",
        "YajtnKAsGLya",
        "JlML2t3kGVRH",
        "WNfUcJQGGfzy",
        "sY3oQeZZG0cT",
        "YqdjBApLG5s2",
        "OfQ7HGa8G-wL",
        "-fgwTjtQHr8q",
        "zmP2n1HDH3sV",
        "XlFNNrhIIOIF",
        "BLi3NpTBYIR8",
        "zhD8aTS2IlLK",
        "-1cLEsgsJIzJ",
        "CoMWcVh1KBW1",
        "GsS16FxTKOnp",
        "YHjsU3W7KYWq",
        "ES-AGcRzLDQf",
        "oET80gP_I1DC",
        "DpOCQ7y4L2gt",
        "dE_3lUL-NCJq",
        "ZpXiRmTONKzY",
        "TxCGhNFFU5Wz",
        "YDKPETFSV6Wo",
        "-62rWUSYWF60",
        "XZci1UB_WOPS",
        "nZeyUliqXIgf",
        "gDuaUicKYGLZ",
        "DxUo7pb2YmJK",
        "0-v4mWAjZtJG",
        "h9bE83tDd5oa",
        "guMo47-AeBie",
        "JdZdtVmQdhZv",
        "3gjZ1CS4dkUV",
        "FtQ3y8F3eHqK",
        "Df3lWPVdgAm0",
        "usTTS5T5ghdP",
        "QQAa3Y2sk_CL",
        "zFFw_O2glNar",
        "wRP68WuXWJ-W",
        "wuH_ME-PY8sJ",
        "ium7O_9989Pl",
        "FeTuhU5S9F-B",
        "lJre6H7gDBEp",
        "wAJSjbDvDUZ6",
        "mccBY4pjDy1s"
      ],
      "authorship_tag": "ABX9TyMFYo3cvo+mkPS0XhzhgNgH",
      "include_colab_link": true
    },
    "kernelspec": {
      "name": "python3",
      "display_name": "Python 3"
    },
    "language_info": {
      "name": "python"
    }
  },
  "cells": [
    {
      "cell_type": "markdown",
      "metadata": {
        "id": "view-in-github",
        "colab_type": "text"
      },
      "source": [
        "<a href=\"https://colab.research.google.com/github/khinthandarkyaw98/Python_For_Engineers/blob/main/Numpy_for_Engineers.ipynb\" target=\"_parent\"><img src=\"https://colab.research.google.com/assets/colab-badge.svg\" alt=\"Open In Colab\"/></a>"
      ]
    },
    {
      "cell_type": "markdown",
      "source": [
        "### **Disclaimer**\n",
        "This notebook is just a practice and review notebook which I wrote down for myself while watching Mr. P Solver channel on YouTube.\n",
        "\n",
        "Coder : Coral\n",
        "\n",
        "Time : 17 March 2023"
      ],
      "metadata": {
        "id": "wY4puSHFEo8U"
      }
    },
    {
      "cell_type": "code",
      "execution_count": 3,
      "metadata": {
        "id": "Pe3Dhj3WBLOK"
      },
      "outputs": [],
      "source": [
        "import numpy as np\n",
        "import matplotlib.pyplot as plt"
      ]
    },
    {
      "cell_type": "markdown",
      "source": [
        "### **Creating Arrays**"
      ],
      "metadata": {
        "id": "qSCBtAFJF6kx"
      }
    },
    {
      "cell_type": "markdown",
      "source": [
        "#### **np.array()**"
      ],
      "metadata": {
        "id": "QUAr3wyWGH0P"
      }
    },
    {
      "cell_type": "code",
      "source": [
        "a1 = np.array([3, 5, 7, 3])"
      ],
      "metadata": {
        "id": "s3FVGKDgF4hU"
      },
      "execution_count": 4,
      "outputs": []
    },
    {
      "cell_type": "code",
      "source": [
        "print(a1)"
      ],
      "metadata": {
        "colab": {
          "base_uri": "https://localhost:8080/"
        },
        "id": "J2LOmQwNGDqj",
        "outputId": "e631313b-0a38-4c7e-b47c-b88b66da75e5"
      },
      "execution_count": 5,
      "outputs": [
        {
          "output_type": "stream",
          "name": "stdout",
          "text": [
            "[3 5 7 3]\n"
          ]
        }
      ]
    },
    {
      "cell_type": "markdown",
      "source": [
        "#### **np.zeros()**"
      ],
      "metadata": {
        "id": "YajtnKAsGLya"
      }
    },
    {
      "cell_type": "code",
      "source": [
        "a2 = np.zeros(10)"
      ],
      "metadata": {
        "id": "juQ2DzxIGFBU"
      },
      "execution_count": 6,
      "outputs": []
    },
    {
      "cell_type": "code",
      "source": [
        "print(a2)"
      ],
      "metadata": {
        "colab": {
          "base_uri": "https://localhost:8080/"
        },
        "id": "4qtDE__rGSsj",
        "outputId": "6e8d0665-adaf-4359-ac23-a9875609bce8"
      },
      "execution_count": 7,
      "outputs": [
        {
          "output_type": "stream",
          "name": "stdout",
          "text": [
            "[0. 0. 0. 0. 0. 0. 0. 0. 0. 0.]\n"
          ]
        }
      ]
    },
    {
      "cell_type": "markdown",
      "source": [
        "#### **np.ones()**"
      ],
      "metadata": {
        "id": "JlML2t3kGVRH"
      }
    },
    {
      "cell_type": "code",
      "source": [
        "a3 = np.ones(10)"
      ],
      "metadata": {
        "id": "Ouc2T3K4GTwp"
      },
      "execution_count": 8,
      "outputs": []
    },
    {
      "cell_type": "code",
      "source": [
        "print(a3)"
      ],
      "metadata": {
        "colab": {
          "base_uri": "https://localhost:8080/"
        },
        "id": "X5ZrBJUOGaNi",
        "outputId": "5d1e51bf-7445-48dc-d189-bda74f936429"
      },
      "execution_count": 9,
      "outputs": [
        {
          "output_type": "stream",
          "name": "stdout",
          "text": [
            "[1. 1. 1. 1. 1. 1. 1. 1. 1. 1.]\n"
          ]
        }
      ]
    },
    {
      "cell_type": "markdown",
      "source": [
        "#### **np.random.random()**"
      ],
      "metadata": {
        "id": "WNfUcJQGGfzy"
      }
    },
    {
      "cell_type": "markdown",
      "source": [
        "##### **Uniform Distribution**"
      ],
      "metadata": {
        "id": "sY3oQeZZG0cT"
      }
    },
    {
      "cell_type": "code",
      "source": [
        "# uniformly randomize between 0 and 1\n",
        "a4 = np.random.random(10)"
      ],
      "metadata": {
        "id": "UtImin_2GbM1"
      },
      "execution_count": 10,
      "outputs": []
    },
    {
      "cell_type": "code",
      "source": [
        "print(a4)"
      ],
      "metadata": {
        "colab": {
          "base_uri": "https://localhost:8080/"
        },
        "id": "EOPBscL1GtVM",
        "outputId": "25e0c8df-8491-4f20-dfb4-74704503bd75"
      },
      "execution_count": 11,
      "outputs": [
        {
          "output_type": "stream",
          "name": "stdout",
          "text": [
            "[0.39653881 0.4576528  0.6219994  0.35597334 0.03414648 0.22842834\n",
            " 0.35454007 0.29003139 0.95450393 0.40466014]\n"
          ]
        }
      ]
    },
    {
      "cell_type": "markdown",
      "source": [
        "#### **np.random.randn()**"
      ],
      "metadata": {
        "id": "YqdjBApLG5s2"
      }
    },
    {
      "cell_type": "markdown",
      "source": [
        "##### **Gaussian Distribution or Normal Distribution**"
      ],
      "metadata": {
        "id": "OfQ7HGa8G-wL"
      }
    },
    {
      "cell_type": "code",
      "source": [
        "a5 = np.random.randn(10)"
      ],
      "metadata": {
        "id": "yxChyZihGueE"
      },
      "execution_count": 12,
      "outputs": []
    },
    {
      "cell_type": "code",
      "source": [
        "print(a5)"
      ],
      "metadata": {
        "colab": {
          "base_uri": "https://localhost:8080/"
        },
        "id": "mgQ_4fktHTt0",
        "outputId": "46460823-8cc5-4a82-91bb-57e963d5489f"
      },
      "execution_count": 13,
      "outputs": [
        {
          "output_type": "stream",
          "name": "stdout",
          "text": [
            "[-3.10086733 -0.46197834  1.54357682 -1.28204046 -1.92795047  0.29975218\n",
            "  0.45777114 -0.81547844 -1.66818137  1.16820461]\n"
          ]
        }
      ]
    },
    {
      "cell_type": "markdown",
      "source": [
        "#### **np.linspace()**"
      ],
      "metadata": {
        "id": "-fgwTjtQHr8q"
      }
    },
    {
      "cell_type": "markdown",
      "source": [
        "##### **Equally spaced elements** used in graphs"
      ],
      "metadata": {
        "id": "zmP2n1HDH3sV"
      }
    },
    {
      "cell_type": "code",
      "source": [
        "a6 = np.linspace(0, 10, 100) "
      ],
      "metadata": {
        "id": "TU_jeO55HUew"
      },
      "execution_count": 14,
      "outputs": []
    },
    {
      "cell_type": "code",
      "source": [
        "print(a6)"
      ],
      "metadata": {
        "colab": {
          "base_uri": "https://localhost:8080/"
        },
        "id": "e2pXp9ODH80k",
        "outputId": "7d730a22-6a23-48c8-b702-7d72072e8292"
      },
      "execution_count": 15,
      "outputs": [
        {
          "output_type": "stream",
          "name": "stdout",
          "text": [
            "[ 0.          0.1010101   0.2020202   0.3030303   0.4040404   0.50505051\n",
            "  0.60606061  0.70707071  0.80808081  0.90909091  1.01010101  1.11111111\n",
            "  1.21212121  1.31313131  1.41414141  1.51515152  1.61616162  1.71717172\n",
            "  1.81818182  1.91919192  2.02020202  2.12121212  2.22222222  2.32323232\n",
            "  2.42424242  2.52525253  2.62626263  2.72727273  2.82828283  2.92929293\n",
            "  3.03030303  3.13131313  3.23232323  3.33333333  3.43434343  3.53535354\n",
            "  3.63636364  3.73737374  3.83838384  3.93939394  4.04040404  4.14141414\n",
            "  4.24242424  4.34343434  4.44444444  4.54545455  4.64646465  4.74747475\n",
            "  4.84848485  4.94949495  5.05050505  5.15151515  5.25252525  5.35353535\n",
            "  5.45454545  5.55555556  5.65656566  5.75757576  5.85858586  5.95959596\n",
            "  6.06060606  6.16161616  6.26262626  6.36363636  6.46464646  6.56565657\n",
            "  6.66666667  6.76767677  6.86868687  6.96969697  7.07070707  7.17171717\n",
            "  7.27272727  7.37373737  7.47474747  7.57575758  7.67676768  7.77777778\n",
            "  7.87878788  7.97979798  8.08080808  8.18181818  8.28282828  8.38383838\n",
            "  8.48484848  8.58585859  8.68686869  8.78787879  8.88888889  8.98989899\n",
            "  9.09090909  9.19191919  9.29292929  9.39393939  9.49494949  9.5959596\n",
            "  9.6969697   9.7979798   9.8989899  10.        ]\n"
          ]
        }
      ]
    },
    {
      "cell_type": "markdown",
      "source": [
        "#### **np.arange()**"
      ],
      "metadata": {
        "id": "XlFNNrhIIOIF"
      }
    },
    {
      "cell_type": "code",
      "source": [
        "a7 = np.arange(0, 10, 2)"
      ],
      "metadata": {
        "id": "DqRMLZyDH-XO"
      },
      "execution_count": 16,
      "outputs": []
    },
    {
      "cell_type": "code",
      "source": [
        "print(a7)"
      ],
      "metadata": {
        "colab": {
          "base_uri": "https://localhost:8080/"
        },
        "id": "c3jEjruzIcs9",
        "outputId": "c406e179-d6df-41e1-991f-9037639aa443"
      },
      "execution_count": 17,
      "outputs": [
        {
          "output_type": "stream",
          "name": "stdout",
          "text": [
            "[0 2 4 6 8]\n"
          ]
        }
      ]
    },
    {
      "cell_type": "markdown",
      "source": [
        "##### **np.arange() excludes the last element unlike np.linspace()**"
      ],
      "metadata": {
        "id": "BLi3NpTBYIR8"
      }
    },
    {
      "cell_type": "markdown",
      "source": [
        "### **Array Operations**"
      ],
      "metadata": {
        "id": "zhD8aTS2IlLK"
      }
    },
    {
      "cell_type": "code",
      "source": [
        "a1 "
      ],
      "metadata": {
        "colab": {
          "base_uri": "https://localhost:8080/"
        },
        "id": "pwA_iZoMIeTB",
        "outputId": "5dd71a10-565e-4d34-b9eb-311eae137f42"
      },
      "execution_count": 18,
      "outputs": [
        {
          "output_type": "execute_result",
          "data": {
            "text/plain": [
              "array([3, 5, 7, 3])"
            ]
          },
          "metadata": {},
          "execution_count": 18
        }
      ]
    },
    {
      "cell_type": "markdown",
      "source": [
        "#### **Element-wise Operation**"
      ],
      "metadata": {
        "id": "-1cLEsgsJIzJ"
      }
    },
    {
      "cell_type": "code",
      "source": [
        "a1 * 2"
      ],
      "metadata": {
        "colab": {
          "base_uri": "https://localhost:8080/"
        },
        "id": "xwDFWZx6JFre",
        "outputId": "2f2b5f86-c0c8-4c30-f0c6-36e4943c4975"
      },
      "execution_count": 19,
      "outputs": [
        {
          "output_type": "execute_result",
          "data": {
            "text/plain": [
              "array([ 6, 10, 14,  6])"
            ]
          },
          "metadata": {},
          "execution_count": 19
        }
      ]
    },
    {
      "cell_type": "code",
      "source": [
        "1/a1"
      ],
      "metadata": {
        "colab": {
          "base_uri": "https://localhost:8080/"
        },
        "id": "4GIDcqwTJPB9",
        "outputId": "8b3f7ffa-2621-4780-d6cf-331a3cfeeb40"
      },
      "execution_count": 20,
      "outputs": [
        {
          "output_type": "execute_result",
          "data": {
            "text/plain": [
              "array([0.33333333, 0.2       , 0.14285714, 0.33333333])"
            ]
          },
          "metadata": {},
          "execution_count": 20
        }
      ]
    },
    {
      "cell_type": "code",
      "source": [
        "a1 >  4"
      ],
      "metadata": {
        "colab": {
          "base_uri": "https://localhost:8080/"
        },
        "id": "sOIESI-FJW9z",
        "outputId": "0c60532d-eaff-47df-d88f-ffaadf6f0348"
      },
      "execution_count": 21,
      "outputs": [
        {
          "output_type": "execute_result",
          "data": {
            "text/plain": [
              "array([False,  True,  True, False])"
            ]
          },
          "metadata": {},
          "execution_count": 21
        }
      ]
    },
    {
      "cell_type": "code",
      "source": [
        "1/a1 + a1 + 2"
      ],
      "metadata": {
        "colab": {
          "base_uri": "https://localhost:8080/"
        },
        "id": "MpWvNwmCJp8_",
        "outputId": "ef3d105c-2e6a-4066-8c8a-8ba088baab6a"
      },
      "execution_count": 22,
      "outputs": [
        {
          "output_type": "execute_result",
          "data": {
            "text/plain": [
              "array([5.33333333, 7.2       , 9.14285714, 5.33333333])"
            ]
          },
          "metadata": {},
          "execution_count": 22
        }
      ]
    },
    {
      "cell_type": "markdown",
      "source": [
        "### **Plotting**"
      ],
      "metadata": {
        "id": "CoMWcVh1KBW1"
      }
    },
    {
      "cell_type": "markdown",
      "source": [
        "#### **$x y$ Graph**"
      ],
      "metadata": {
        "id": "GsS16FxTKOnp"
      }
    },
    {
      "cell_type": "code",
      "source": [
        "x = np.linspace(0, 1, 100)\n",
        "y = x**2\n",
        "plt.plot(x, y)"
      ],
      "metadata": {
        "colab": {
          "base_uri": "https://localhost:8080/",
          "height": 282
        },
        "id": "hjMmtxGzJujJ",
        "outputId": "b23f72a4-7c49-4596-99c2-88aa473264a7"
      },
      "execution_count": 23,
      "outputs": [
        {
          "output_type": "execute_result",
          "data": {
            "text/plain": [
              "[<matplotlib.lines.Line2D at 0x7f67d67cc6a0>]"
            ]
          },
          "metadata": {},
          "execution_count": 23
        },
        {
          "output_type": "display_data",
          "data": {
            "text/plain": [
              "<Figure size 432x288 with 1 Axes>"
            ],
            "image/png": "[encoded data removed]"
          },
          "metadata": {
            "needs_background": "light"
          }
        }
      ]
    },
    {
      "cell_type": "markdown",
      "source": [
        "#### **Historgram**"
      ],
      "metadata": {
        "id": "YHjsU3W7KYWq"
      }
    },
    {
      "cell_type": "code",
      "source": [
        "print(a4)\n",
        "plt.hist(a4)"
      ],
      "metadata": {
        "colab": {
          "base_uri": "https://localhost:8080/",
          "height": 0
        },
        "id": "yKnjj1AvJ_KN",
        "outputId": "27ae7f57-e9a4-44a0-c285-91f15ad62749"
      },
      "execution_count": 24,
      "outputs": [
        {
          "output_type": "stream",
          "name": "stdout",
          "text": [
            "[0.39653881 0.4576528  0.6219994  0.35597334 0.03414648 0.22842834\n",
            " 0.35454007 0.29003139 0.95450393 0.40466014]\n"
          ]
        },
        {
          "output_type": "execute_result",
          "data": {
            "text/plain": [
              "(array([1., 0., 2., 3., 2., 0., 1., 0., 0., 1.]),\n",
              " array([0.03414648, 0.12618223, 0.21821797, 0.31025372, 0.40228946,\n",
              "        0.49432521, 0.58636095, 0.6783967 , 0.77043244, 0.86246819,\n",
              "        0.95450393]),\n",
              " <BarContainer object of 10 artists>)"
            ]
          },
          "metadata": {},
          "execution_count": 24
        },
        {
          "output_type": "display_data",
          "data": {
            "text/plain": [
              "<Figure size 432x288 with 1 Axes>"
            ],
            "image/png": "[encoded data removed]"
          },
          "metadata": {
            "needs_background": "light"
          }
        }
      ]
    },
    {
      "cell_type": "markdown",
      "source": [
        "### **Using Function instead of foor loop for arrays**"
      ],
      "metadata": {
        "id": "ES-AGcRzLDQf"
      }
    },
    {
      "cell_type": "markdown",
      "source": [
        "$$y = x^2 \\sin(x) e^{-x}$$"
      ],
      "metadata": {
        "id": "ZgLvo3yILRY0"
      }
    },
    {
      "cell_type": "code",
      "source": [
        "def f(x):\n",
        "  return x**2 * np.sin(x) / np.exp(-x)\n",
        "\n",
        "x = np.linspace(0, 10, 100)\n",
        "y = f(x)\n",
        "\n",
        "plt.plot(x, y)"
      ],
      "metadata": {
        "colab": {
          "base_uri": "https://localhost:8080/",
          "height": 293
        },
        "id": "PzNsrvd2LLDB",
        "outputId": "479dd5d1-2b8a-45fc-d018-904cbe730646"
      },
      "execution_count": 25,
      "outputs": [
        {
          "output_type": "execute_result",
          "data": {
            "text/plain": [
              "[<matplotlib.lines.Line2D at 0x7f67bcfb65e0>]"
            ]
          },
          "metadata": {},
          "execution_count": 25
        },
        {
          "output_type": "display_data",
          "data": {
            "text/plain": [
              "<Figure size 432x288 with 1 Axes>"
            ],
            "image/png": "[encoded data removed]"
          },
          "metadata": {
            "needs_background": "light"
          }
        }
      ]
    },
    {
      "cell_type": "markdown",
      "source": [
        "##### **List of many mathematical functions**\n",
        "\n",
        "[https://numpy.org/doc/stable/reference/routines.math.html](https://numpy.org/doc/stable/reference/routines.math.html)"
      ],
      "metadata": {
        "id": "oET80gP_I1DC"
      }
    },
    {
      "cell_type": "markdown",
      "source": [
        "### **Array Indexing/Slicing**"
      ],
      "metadata": {
        "id": "DpOCQ7y4L2gt"
      }
    },
    {
      "cell_type": "code",
      "source": [
        "a1 = np.array([2, 4, 6, 8, 10])"
      ],
      "metadata": {
        "id": "Cbauxoq6L6hz"
      },
      "execution_count": 26,
      "outputs": []
    },
    {
      "cell_type": "code",
      "source": [
        "a1[2]"
      ],
      "metadata": {
        "colab": {
          "base_uri": "https://localhost:8080/"
        },
        "id": "GTA6stmYMBEW",
        "outputId": "53fbfa0f-68f9-4f0f-edec-b58275d21a69"
      },
      "execution_count": 27,
      "outputs": [
        {
          "output_type": "execute_result",
          "data": {
            "text/plain": [
              "6"
            ]
          },
          "metadata": {},
          "execution_count": 27
        }
      ]
    },
    {
      "cell_type": "code",
      "source": [
        "# np.array([6, 8, 10])\n",
        "a1[2:]"
      ],
      "metadata": {
        "colab": {
          "base_uri": "https://localhost:8080/"
        },
        "id": "jV_Fsf2VMCEM",
        "outputId": "2b918db5-b86d-4875-ba87-770aee519830"
      },
      "execution_count": 28,
      "outputs": [
        {
          "output_type": "execute_result",
          "data": {
            "text/plain": [
              "array([ 6,  8, 10])"
            ]
          },
          "metadata": {},
          "execution_count": 28
        }
      ]
    },
    {
      "cell_type": "code",
      "source": [
        "a1[:-2]"
      ],
      "metadata": {
        "colab": {
          "base_uri": "https://localhost:8080/"
        },
        "id": "qf3-kleHMRsx",
        "outputId": "ea9cb81d-cef8-43cc-c75f-1978839dca3f"
      },
      "execution_count": 29,
      "outputs": [
        {
          "output_type": "execute_result",
          "data": {
            "text/plain": [
              "array([2, 4, 6])"
            ]
          },
          "metadata": {},
          "execution_count": 29
        }
      ]
    },
    {
      "cell_type": "code",
      "source": [
        "a1[1:-2]"
      ],
      "metadata": {
        "colab": {
          "base_uri": "https://localhost:8080/"
        },
        "id": "bqWgHE23MYxT",
        "outputId": "3931ab5a-390c-46eb-f2c6-664fcb94452f"
      },
      "execution_count": 30,
      "outputs": [
        {
          "output_type": "execute_result",
          "data": {
            "text/plain": [
              "array([4, 6])"
            ]
          },
          "metadata": {},
          "execution_count": 30
        }
      ]
    },
    {
      "cell_type": "code",
      "source": [
        "a1>3"
      ],
      "metadata": {
        "colab": {
          "base_uri": "https://localhost:8080/"
        },
        "id": "xt0Py-GbMb4W",
        "outputId": "b77c8dbe-744d-4602-90a9-f0340931086b"
      },
      "execution_count": 31,
      "outputs": [
        {
          "output_type": "execute_result",
          "data": {
            "text/plain": [
              "array([False,  True,  True,  True,  True])"
            ]
          },
          "metadata": {},
          "execution_count": 31
        }
      ]
    },
    {
      "cell_type": "code",
      "source": [
        "a1[a1>3]"
      ],
      "metadata": {
        "colab": {
          "base_uri": "https://localhost:8080/"
        },
        "id": "fTps-WrTMhkm",
        "outputId": "3de2c243-d3ae-44c4-88e3-57157472d36a"
      },
      "execution_count": 32,
      "outputs": [
        {
          "output_type": "execute_result",
          "data": {
            "text/plain": [
              "array([ 4,  6,  8, 10])"
            ]
          },
          "metadata": {},
          "execution_count": 32
        }
      ]
    },
    {
      "cell_type": "markdown",
      "source": [
        "##### **np.vectorize()**"
      ],
      "metadata": {
        "id": "dE_3lUL-NCJq"
      }
    },
    {
      "cell_type": "markdown",
      "source": [
        "#### **lambda function**"
      ],
      "metadata": {
        "id": "ZpXiRmTONKzY"
      }
    },
    {
      "cell_type": "code",
      "source": [
        "names = np.array([\"Jim\", \"Luke\", \"Josh\", \"Pete\"])"
      ],
      "metadata": {
        "id": "gnMIf6jZMsUW"
      },
      "execution_count": 33,
      "outputs": []
    },
    {
      "cell_type": "code",
      "source": [
        "names"
      ],
      "metadata": {
        "colab": {
          "base_uri": "https://localhost:8080/"
        },
        "id": "i4padAM2M3-C",
        "outputId": "d8507bb4-4233-4f7c-811a-e2f2d20e6e50"
      },
      "execution_count": 34,
      "outputs": [
        {
          "output_type": "execute_result",
          "data": {
            "text/plain": [
              "array(['Jim', 'Luke', 'Josh', 'Pete'], dtype='<U4')"
            ]
          },
          "metadata": {},
          "execution_count": 34
        }
      ]
    },
    {
      "cell_type": "code",
      "source": [
        "# start with the letter \"J\"\n",
        "first_letter_j = np.vectorize(lambda s: s[0])(names) == \"J\""
      ],
      "metadata": {
        "id": "_W2b8A84M4lM"
      },
      "execution_count": 35,
      "outputs": []
    },
    {
      "cell_type": "code",
      "source": [
        "# s works like\n",
        "# give me a string\n",
        "# s[0] returns the first character of the string\n",
        "f = lambda s: s[0] "
      ],
      "metadata": {
        "id": "qFh-UXMKNfa7"
      },
      "execution_count": 36,
      "outputs": []
    },
    {
      "cell_type": "code",
      "source": [
        "f('animal')"
      ],
      "metadata": {
        "colab": {
          "base_uri": "https://localhost:8080/",
          "height": 0
        },
        "id": "bqDwF0VnNkRi",
        "outputId": "67b6fc8f-9652-4e7a-f5d7-a6f36c6e0cbe"
      },
      "execution_count": 37,
      "outputs": [
        {
          "output_type": "execute_result",
          "data": {
            "text/plain": [
              "'a'"
            ],
            "application/vnd.google.colaboratory.intrinsic+json": {
              "type": "string"
            }
          },
          "metadata": {},
          "execution_count": 37
        }
      ]
    },
    {
      "cell_type": "code",
      "source": [
        "# np.vectorize works like a for loop\n",
        "# it creates a for loop\n",
        "# it goes each element in [names] seuqentially and applies lambda funciton<taking the first character> to each element\n",
        "np.vectorize(lambda s : s[0]) (names)"
      ],
      "metadata": {
        "colab": {
          "base_uri": "https://localhost:8080/"
        },
        "id": "Q_oFdj90Nls_",
        "outputId": "883a5683-9e9c-4dd0-87a9-23c897e46dd8"
      },
      "execution_count": 38,
      "outputs": [
        {
          "output_type": "execute_result",
          "data": {
            "text/plain": [
              "array(['J', 'L', 'J', 'P'], dtype='<U1')"
            ]
          },
          "metadata": {},
          "execution_count": 38
        }
      ]
    },
    {
      "cell_type": "code",
      "source": [
        "np.vectorize(lambda s : s[0]) (names) == \"J\""
      ],
      "metadata": {
        "colab": {
          "base_uri": "https://localhost:8080/"
        },
        "id": "YByOO4oLTMCF",
        "outputId": "fd233ca0-50b3-465d-ee38-be6affaabc18"
      },
      "execution_count": 39,
      "outputs": [
        {
          "output_type": "execute_result",
          "data": {
            "text/plain": [
              "array([ True, False,  True, False])"
            ]
          },
          "metadata": {},
          "execution_count": 39
        }
      ]
    },
    {
      "cell_type": "code",
      "source": [
        "first_letter_j = np.vectorize(lambda s : s[0]) (names) == \"J\"\n",
        "names[first_letter_j]"
      ],
      "metadata": {
        "colab": {
          "base_uri": "https://localhost:8080/"
        },
        "id": "8WqbtemETPue",
        "outputId": "01fc125c-f94f-4b8f-c895-8b9c1dc55b64"
      },
      "execution_count": 40,
      "outputs": [
        {
          "output_type": "execute_result",
          "data": {
            "text/plain": [
              "array(['Jim', 'Josh'], dtype='<U4')"
            ]
          },
          "metadata": {},
          "execution_count": 40
        }
      ]
    },
    {
      "cell_type": "code",
      "source": [
        "a1"
      ],
      "metadata": {
        "colab": {
          "base_uri": "https://localhost:8080/"
        },
        "id": "mGK-K1R8UYCE",
        "outputId": "3e1e56b2-a069-4ca8-c030-641a6aa81b42"
      },
      "execution_count": 41,
      "outputs": [
        {
          "output_type": "execute_result",
          "data": {
            "text/plain": [
              "array([ 2,  4,  6,  8, 10])"
            ]
          },
          "metadata": {},
          "execution_count": 41
        }
      ]
    },
    {
      "cell_type": "code",
      "source": [
        "# return remainders\n",
        "a1%4 "
      ],
      "metadata": {
        "colab": {
          "base_uri": "https://localhost:8080/"
        },
        "id": "8a2k7uEnUS5c",
        "outputId": "f46047ad-7077-40eb-8957-8753ff9ca9c8"
      },
      "execution_count": 42,
      "outputs": [
        {
          "output_type": "execute_result",
          "data": {
            "text/plain": [
              "array([2, 0, 2, 0, 2])"
            ]
          },
          "metadata": {},
          "execution_count": 42
        }
      ]
    },
    {
      "cell_type": "code",
      "source": [
        "a1[a1%4 == 0] "
      ],
      "metadata": {
        "colab": {
          "base_uri": "https://localhost:8080/"
        },
        "id": "zGqCi2jCUW9X",
        "outputId": "aa39f0db-12bc-410d-ecbf-01abaf49c7fc"
      },
      "execution_count": 43,
      "outputs": [
        {
          "output_type": "execute_result",
          "data": {
            "text/plain": [
              "array([4, 8])"
            ]
          },
          "metadata": {},
          "execution_count": 43
        }
      ]
    },
    {
      "cell_type": "markdown",
      "source": [
        "### **Calculs / Statistical Functions**"
      ],
      "metadata": {
        "id": "TxCGhNFFU5Wz"
      }
    },
    {
      "cell_type": "code",
      "source": [
        "# mulitply the bell curve by 2 and shift to 10\n",
        "a1 = 2 * np.random.randn(10000) + 10 "
      ],
      "metadata": {
        "id": "LyM3OncsUlbe"
      },
      "execution_count": 44,
      "outputs": []
    },
    {
      "cell_type": "code",
      "source": [
        "a1"
      ],
      "metadata": {
        "colab": {
          "base_uri": "https://localhost:8080/"
        },
        "id": "xLtnaQ4SV4HH",
        "outputId": "dcc44e57-d2c8-44f5-a3f1-b5be47359887"
      },
      "execution_count": 45,
      "outputs": [
        {
          "output_type": "execute_result",
          "data": {
            "text/plain": [
              "array([ 5.90774626,  7.29326891,  9.20190662, ..., 12.5252103 ,\n",
              "        8.84622357, 11.98965836])"
            ]
          },
          "metadata": {},
          "execution_count": 45
        }
      ]
    },
    {
      "cell_type": "markdown",
      "source": [
        "#### **np.mean()**"
      ],
      "metadata": {
        "id": "YDKPETFSV6Wo"
      }
    },
    {
      "cell_type": "code",
      "source": [
        "np.mean(a1)"
      ],
      "metadata": {
        "colab": {
          "base_uri": "https://localhost:8080/"
        },
        "id": "67EKgHozV4v0",
        "outputId": "3907dcb5-82f9-4519-faf0-f987e70d661b"
      },
      "execution_count": 46,
      "outputs": [
        {
          "output_type": "execute_result",
          "data": {
            "text/plain": [
              "10.026712353462063"
            ]
          },
          "metadata": {},
          "execution_count": 46
        }
      ]
    },
    {
      "cell_type": "markdown",
      "source": [
        "#### **np.std()**"
      ],
      "metadata": {
        "id": "-62rWUSYWF60"
      }
    },
    {
      "cell_type": "code",
      "source": [
        "np.std(a1)"
      ],
      "metadata": {
        "colab": {
          "base_uri": "https://localhost:8080/"
        },
        "id": "2YhHWfxYWB_L",
        "outputId": "03b7d1ab-d375-4d22-f156-8a5eca73d601"
      },
      "execution_count": 47,
      "outputs": [
        {
          "output_type": "execute_result",
          "data": {
            "text/plain": [
              "1.9921094139145286"
            ]
          },
          "metadata": {},
          "execution_count": 47
        }
      ]
    },
    {
      "cell_type": "markdown",
      "source": [
        "#### **np.percentile()**"
      ],
      "metadata": {
        "id": "XZci1UB_WOPS"
      }
    },
    {
      "cell_type": "code",
      "source": [
        "# how many values are 80 % less than the given number\n",
        "np.percentile(a1, 80)\n",
        "# as a result, 80 % of numbers in a1 are less than 11.646455515243199"
      ],
      "metadata": {
        "colab": {
          "base_uri": "https://localhost:8080/"
        },
        "id": "BxruAX-5WJt5",
        "outputId": "b02eac83-fdd4-4380-d359-89b8ff0da4dd"
      },
      "execution_count": 48,
      "outputs": [
        {
          "output_type": "execute_result",
          "data": {
            "text/plain": [
              "11.725957310683597"
            ]
          },
          "metadata": {},
          "execution_count": 48
        }
      ]
    },
    {
      "cell_type": "markdown",
      "source": [
        "### **Integrations and Derivatives**"
      ],
      "metadata": {
        "id": "nZeyUliqXIgf"
      }
    },
    {
      "cell_type": "code",
      "source": [
        "x  = np.linspace(1, 10, 100)\n",
        "y = 1/x**2 * np.sin(x)"
      ],
      "metadata": {
        "id": "vltEsjsTWUpA"
      },
      "execution_count": 49,
      "outputs": []
    },
    {
      "cell_type": "markdown",
      "source": [
        "#### **np.gradient()**"
      ],
      "metadata": {
        "id": "gDuaUicKYGLZ"
      }
    },
    {
      "cell_type": "code",
      "source": [
        "# derivative of y in terms of x\n",
        "# give derivative y with x spacing\n",
        "dydx = np.gradient(y, x)"
      ],
      "metadata": {
        "id": "LhGyKIIyYiUU"
      },
      "execution_count": 50,
      "outputs": []
    },
    {
      "cell_type": "markdown",
      "source": [
        "#### **np.cumsum()**"
      ],
      "metadata": {
        "id": "DxUo7pb2YmJK"
      }
    },
    {
      "cell_type": "code",
      "source": [
        "np.cumsum(np.array([1, 2, 3, 4]))"
      ],
      "metadata": {
        "colab": {
          "base_uri": "https://localhost:8080/"
        },
        "id": "zBalIROwYx2_",
        "outputId": "7cffaa01-7f9a-4a0c-9d55-1074e694c30e"
      },
      "execution_count": 51,
      "outputs": [
        {
          "output_type": "execute_result",
          "data": {
            "text/plain": [
              "array([ 1,  3,  6, 10])"
            ]
          },
          "metadata": {},
          "execution_count": 51
        }
      ]
    },
    {
      "cell_type": "code",
      "source": [
        "# take the cumulative sum\n",
        "# cumsum() is taking the total summation of the first element sum, second element sum(summation of first and second elements), etc\n",
        "# integral is the multiplication of cumsum() and ds\n",
        "# ds = x spacing difference\n",
        "# ds = x[1] - x[0]\n",
        "y_integral = np.cumsum(y) * (x[1]-x[0])"
      ],
      "metadata": {
        "id": "rB4DeoRxYj13"
      },
      "execution_count": 52,
      "outputs": []
    },
    {
      "cell_type": "code",
      "source": [
        "plt.plot(x, y, label=\"xy\")\n",
        "plt.plot(x, dydx, label=\"dydx\")\n",
        "plt.plot(x, y_integral, label=\"y_integral\")\n",
        "plt.legend()"
      ],
      "metadata": {
        "colab": {
          "base_uri": "https://localhost:8080/",
          "height": 282
        },
        "id": "eZAO3BlnXYXv",
        "outputId": "fddb2506-92b0-41cf-bc57-607bb114e70a"
      },
      "execution_count": 53,
      "outputs": [
        {
          "output_type": "execute_result",
          "data": {
            "text/plain": [
              "<matplotlib.legend.Legend at 0x7f67d682f790>"
            ]
          },
          "metadata": {},
          "execution_count": 53
        },
        {
          "output_type": "display_data",
          "data": {
            "text/plain": [
              "<Figure size 432x288 with 1 Axes>"
            ],
            "image/png": "[encoded data removed]"
          },
          "metadata": {
            "needs_background": "light"
          }
        }
      ]
    },
    {
      "cell_type": "markdown",
      "source": [
        "### **Examples**"
      ],
      "metadata": {
        "id": "lMU8JgPIdds1"
      }
    },
    {
      "cell_type": "markdown",
      "source": [
        "#### **Question 1**\n",
        "\n",
        "Let $y = e^{-x/10} \\sin(x)$. Consider 10000 x intervals in the range [0, 10].\n",
        "\n",
        "1. Plot the function $y$ vs $x$ in the range [0, 10].\n",
        "2. Compute the mean and standard deviation of $y$ for $x$ values in [4, 7].\n",
        "3. For x in the range [4, 7], find the value $y_m$ such that 80 % of $y$ values are less than $y_m$.\n",
        "4. Plot $dy/dx$ vs $x$.\n",
        "5. Find the locations where $dy/dx$ = 0."
      ],
      "metadata": {
        "id": "0-v4mWAjZtJG"
      }
    },
    {
      "cell_type": "markdown",
      "source": [
        "##### **Answer 1**"
      ],
      "metadata": {
        "id": "h9bE83tDd5oa"
      }
    },
    {
      "cell_type": "code",
      "source": [
        "#1 Plot the function  y  vs  x  in the range [0, 10].\n",
        "N = 10000\n",
        "x = np.linspace(0, 10, N+1)\n",
        "y = np.exp(-x/10) * np.sin(x)\n",
        "plt.plot(x, y)"
      ],
      "metadata": {
        "colab": {
          "base_uri": "https://localhost:8080/",
          "height": 282
        },
        "id": "u6NT30-zXZ8v",
        "outputId": "25d09ab5-24f8-4a78-f420-e08dbbaf9deb"
      },
      "execution_count": 54,
      "outputs": [
        {
          "output_type": "execute_result",
          "data": {
            "text/plain": [
              "[<matplotlib.lines.Line2D at 0x7f67bce76220>]"
            ]
          },
          "metadata": {},
          "execution_count": 54
        },
        {
          "output_type": "display_data",
          "data": {
            "text/plain": [
              "<Figure size 432x288 with 1 Axes>"
            ],
            "image/png": "[encoded data removed]"
          },
          "metadata": {
            "needs_background": "light"
          }
        }
      ]
    },
    {
      "cell_type": "markdown",
      "source": [
        "##### **Answer 2**"
      ],
      "metadata": {
        "id": "guMo47-AeBie"
      }
    },
    {
      "cell_type": "code",
      "source": [
        "#2 Compute the mean and standard deviation of  y  for  x  values in [4, 7]\n",
        "x >= 4"
      ],
      "metadata": {
        "colab": {
          "base_uri": "https://localhost:8080/"
        },
        "id": "SaQRxLpFcOth",
        "outputId": "45307357-0f09-4bf4-cf5f-c8eeb5d2ace1"
      },
      "execution_count": 55,
      "outputs": [
        {
          "output_type": "execute_result",
          "data": {
            "text/plain": [
              "array([False, False, False, ...,  True,  True,  True])"
            ]
          },
          "metadata": {},
          "execution_count": 55
        }
      ]
    },
    {
      "cell_type": "code",
      "source": [
        "x <= 7"
      ],
      "metadata": {
        "colab": {
          "base_uri": "https://localhost:8080/"
        },
        "id": "mECsByzcccGw",
        "outputId": "4216afaa-5871-4877-f432-17f8e87b4741"
      },
      "execution_count": 56,
      "outputs": [
        {
          "output_type": "execute_result",
          "data": {
            "text/plain": [
              "array([ True,  True,  True, ..., False, False, False])"
            ]
          },
          "metadata": {},
          "execution_count": 56
        }
      ]
    },
    {
      "cell_type": "code",
      "source": [
        "(x >= 4) * (x <=7)"
      ],
      "metadata": {
        "colab": {
          "base_uri": "https://localhost:8080/"
        },
        "id": "sf_VYZ2zcesl",
        "outputId": "72aa8e82-864c-4294-bb78-31f9fe0c99ca"
      },
      "execution_count": 57,
      "outputs": [
        {
          "output_type": "execute_result",
          "data": {
            "text/plain": [
              "array([False, False, False, ..., False, False, False])"
            ]
          },
          "metadata": {},
          "execution_count": 57
        }
      ]
    },
    {
      "cell_type": "code",
      "source": [
        "# return only values of y in the range of [4, 7]\n",
        "y [(x >= 4) * (x <=7)]"
      ],
      "metadata": {
        "colab": {
          "base_uri": "https://localhost:8080/"
        },
        "id": "sN3XqXPdclkf",
        "outputId": "05997d18-940f-4c59-8fb0-b3b17e676d25"
      },
      "execution_count": 58,
      "outputs": [
        {
          "output_type": "execute_result",
          "data": {
            "text/plain": [
              "array([-0.50729988, -0.50768701, -0.50807354, ...,  0.32556559,\n",
              "        0.32590794,  0.32624989])"
            ]
          },
          "metadata": {},
          "execution_count": 58
        }
      ]
    },
    {
      "cell_type": "markdown",
      "source": [
        "###### **np.mean()**"
      ],
      "metadata": {
        "id": "JdZdtVmQdhZv"
      }
    },
    {
      "cell_type": "code",
      "source": [
        "np.mean(y[(x>=4)*(x<=7)])"
      ],
      "metadata": {
        "colab": {
          "base_uri": "https://localhost:8080/"
        },
        "id": "ykPzapj3cuVK",
        "outputId": "7f7204c6-d03f-43e9-84ce-4224593a3b0a"
      },
      "execution_count": 59,
      "outputs": [
        {
          "output_type": "execute_result",
          "data": {
            "text/plain": [
              "-0.2956023068963138"
            ]
          },
          "metadata": {},
          "execution_count": 59
        }
      ]
    },
    {
      "cell_type": "markdown",
      "source": [
        "###### **np.std()**"
      ],
      "metadata": {
        "id": "3gjZ1CS4dkUV"
      }
    },
    {
      "cell_type": "code",
      "source": [
        "np.std(y[(x>=4)*(x<=7)])"
      ],
      "metadata": {
        "colab": {
          "base_uri": "https://localhost:8080/"
        },
        "id": "w5IxSLlldO-q",
        "outputId": "8fe7b7a7-b4b9-4d81-abca-e47e91643667"
      },
      "execution_count": 60,
      "outputs": [
        {
          "output_type": "execute_result",
          "data": {
            "text/plain": [
              "0.31448753875085117"
            ]
          },
          "metadata": {},
          "execution_count": 60
        }
      ]
    },
    {
      "cell_type": "markdown",
      "source": [
        "##### **Answer 3**"
      ],
      "metadata": {
        "id": "FtQ3y8F3eHqK"
      }
    },
    {
      "cell_type": "code",
      "source": [
        "#3. For x in the range [4, 7], find the value  y_m  such that 80 % of  y  values are less than  y_m .\n",
        "np.percentile(y[(x>=4)*(x<=7)], 80)"
      ],
      "metadata": {
        "colab": {
          "base_uri": "https://localhost:8080/"
        },
        "id": "bTbYA3-QdU-X",
        "outputId": "a720c9f8-9c39-4f3a-e429-9787481f5bc2"
      },
      "execution_count": 61,
      "outputs": [
        {
          "output_type": "execute_result",
          "data": {
            "text/plain": [
              "0.06145551274590662"
            ]
          },
          "metadata": {},
          "execution_count": 61
        }
      ]
    },
    {
      "cell_type": "markdown",
      "source": [
        "##### **Answer 4**"
      ],
      "metadata": {
        "id": "Df3lWPVdgAm0"
      }
    },
    {
      "cell_type": "code",
      "source": [
        "#4 Plot  dy/dx  vs  x .\n",
        "dydx = np.gradient(y, x)\n",
        "plt.plot(x, dydx)\n",
        "plt.xlabel('x')\n",
        "plt.ylabel('dy/dx')"
      ],
      "metadata": {
        "colab": {
          "base_uri": "https://localhost:8080/",
          "height": 296
        },
        "id": "ppalSpk-d3Pd",
        "outputId": "e0e2c23e-409d-478f-bc1d-4686c8f1e957"
      },
      "execution_count": 62,
      "outputs": [
        {
          "output_type": "execute_result",
          "data": {
            "text/plain": [
              "Text(0, 0.5, 'dy/dx')"
            ]
          },
          "metadata": {},
          "execution_count": 62
        },
        {
          "output_type": "display_data",
          "data": {
            "text/plain": [
              "<Figure size 432x288 with 1 Axes>"
            ],
            "image/png": "[encoded data removed]"
          },
          "metadata": {
            "needs_background": "light"
          }
        }
      ]
    },
    {
      "cell_type": "markdown",
      "source": [
        "##### **Answer 5**"
      ],
      "metadata": {
        "id": "usTTS5T5ghdP"
      }
    },
    {
      "cell_type": "code",
      "source": [
        "# 5. Find the locations where  dy/dx  = 0\n",
        "dydx"
      ],
      "metadata": {
        "colab": {
          "base_uri": "https://localhost:8080/"
        },
        "id": "PhCsZnHSgP-H",
        "outputId": "d824a284-6d89-4d15-b4f1-4c58a09b8aa4"
      },
      "execution_count": 63,
      "outputs": [
        {
          "output_type": "execute_result",
          "data": {
            "text/plain": [
              "array([ 0.99989984,  0.99979935,  0.9995979 , ..., -0.28918296,\n",
              "       -0.28892346, -0.28879364])"
            ]
          },
          "metadata": {},
          "execution_count": 63
        }
      ]
    },
    {
      "cell_type": "code",
      "source": [
        "dydx[1:]"
      ],
      "metadata": {
        "colab": {
          "base_uri": "https://localhost:8080/"
        },
        "id": "edlMlQbCgyeK",
        "outputId": "5fab1a95-c136-4759-8839-4ad3d66d490c"
      },
      "execution_count": 64,
      "outputs": [
        {
          "output_type": "execute_result",
          "data": {
            "text/plain": [
              "array([ 0.99979935,  0.9995979 ,  0.99939548, ..., -0.28918296,\n",
              "       -0.28892346, -0.28879364])"
            ]
          },
          "metadata": {},
          "execution_count": 64
        }
      ]
    },
    {
      "cell_type": "code",
      "source": [
        "dydx[:-1]"
      ],
      "metadata": {
        "colab": {
          "base_uri": "https://localhost:8080/"
        },
        "id": "jtxQ4k7ig-fB",
        "outputId": "156cb28b-cad3-42e5-8769-b4aa08d24939"
      },
      "execution_count": 65,
      "outputs": [
        {
          "output_type": "execute_result",
          "data": {
            "text/plain": [
              "array([ 0.99989984,  0.99979935,  0.9995979 , ..., -0.28944223,\n",
              "       -0.28918296, -0.28892346])"
            ]
          },
          "metadata": {},
          "execution_count": 65
        }
      ]
    },
    {
      "cell_type": "code",
      "source": [
        "# let's multiply consecutive array elements of dydx\n",
        "dydx[1:] * dydx[:-1]"
      ],
      "metadata": {
        "colab": {
          "base_uri": "https://localhost:8080/"
        },
        "id": "QlH3v2elhA3S",
        "outputId": "752432c1-ddcc-4258-e25b-819851459517"
      },
      "execution_count": 66,
      "outputs": [
        {
          "output_type": "execute_result",
          "data": {
            "text/plain": [
              "array([0.99969921, 0.99939733, 0.99899362, ..., 0.08370176, 0.08355174,\n",
              "       0.08343926])"
            ]
          },
          "metadata": {},
          "execution_count": 66
        }
      ]
    },
    {
      "cell_type": "code",
      "source": [
        "dydx[1:] * dydx[:-1] < 0"
      ],
      "metadata": {
        "colab": {
          "base_uri": "https://localhost:8080/"
        },
        "id": "5RvSbp8Ehc6j",
        "outputId": "c25162a5-cc6b-4241-f1eb-a0837d6b5bc5"
      },
      "execution_count": 67,
      "outputs": [
        {
          "output_type": "execute_result",
          "data": {
            "text/plain": [
              "array([False, False, False, ..., False, False, False])"
            ]
          },
          "metadata": {},
          "execution_count": 67
        }
      ]
    },
    {
      "cell_type": "code",
      "source": [
        "x[1:]"
      ],
      "metadata": {
        "colab": {
          "base_uri": "https://localhost:8080/"
        },
        "id": "HMnK3pRzhrzz",
        "outputId": "00afb17a-e70a-47f7-8d15-0ffeea554b6e"
      },
      "execution_count": 68,
      "outputs": [
        {
          "output_type": "execute_result",
          "data": {
            "text/plain": [
              "array([1.000e-03, 2.000e-03, 3.000e-03, ..., 9.998e+00, 9.999e+00,\n",
              "       1.000e+01])"
            ]
          },
          "metadata": {},
          "execution_count": 68
        }
      ]
    },
    {
      "cell_type": "markdown",
      "source": [
        "######  **Finding the roots**"
      ],
      "metadata": {
        "id": "QQAa3Y2sk_CL"
      }
    },
    {
      "cell_type": "code",
      "source": [
        "# now find the roots dydx = 0\n",
        "# dydx = 0 when x value changes from positive to negative\n",
        "# so let's find out the place where the swap from positive to negative happens\n",
        "# if you multiply consecutive elements\n",
        "# neg * neg = pos\n",
        "# pos * pos = pos\n",
        "# neg * pos = neg\n",
        "# pos * neg = neg\n",
        "# BOOM! there we see neg results where swap happens\n",
        "# this is the place where the root locates \n",
        "#  index = [dydx[1:] * dydx[:-1] < 0]\n",
        "# so let's take this as an index\n",
        "# and put slice the x array using that index\n",
        "# x[1:][index]\n",
        "# BOOM! BOOM! there we got it!\n",
        "x[1:] [dydx[1:] * dydx[:-1] < 0]"
      ],
      "metadata": {
        "colab": {
          "base_uri": "https://localhost:8080/"
        },
        "id": "JdT4qrd3h1Jn",
        "outputId": "696cfedb-456e-4a90-9b65-5f3d1c318f84"
      },
      "execution_count": 69,
      "outputs": [
        {
          "output_type": "execute_result",
          "data": {
            "text/plain": [
              "array([1.472, 4.613, 7.755])"
            ]
          },
          "metadata": {},
          "execution_count": 69
        }
      ]
    },
    {
      "cell_type": "markdown",
      "source": [
        "#### **Question 2**"
      ],
      "metadata": {
        "id": "zFFw_O2glNar"
      }
    },
    {
      "cell_type": "markdown",
      "source": [
        "Sum together every number from 0 to 10000 excep for those that can be divided by  4 or 7. **Do this in one line of code.**"
      ],
      "metadata": {
        "id": "urC8f7bolSjX"
      }
    },
    {
      "cell_type": "code",
      "source": [
        "np.arange(0, 10001, 1)"
      ],
      "metadata": {
        "colab": {
          "base_uri": "https://localhost:8080/"
        },
        "id": "CcLkbOPtiK76",
        "outputId": "cfde80a0-130b-400e-991a-d2d81f376560"
      },
      "execution_count": 70,
      "outputs": [
        {
          "output_type": "execute_result",
          "data": {
            "text/plain": [
              "array([    0,     1,     2, ...,  9998,  9999, 10000])"
            ]
          },
          "metadata": {},
          "execution_count": 70
        }
      ]
    },
    {
      "cell_type": "code",
      "source": [
        "np.arange(0, 10001, 1) % 4"
      ],
      "metadata": {
        "colab": {
          "base_uri": "https://localhost:8080/"
        },
        "id": "2h7MOu_wl19O",
        "outputId": "9f2f7e8f-fd2d-4b3b-8813-dd11e8543c9f"
      },
      "execution_count": 71,
      "outputs": [
        {
          "output_type": "execute_result",
          "data": {
            "text/plain": [
              "array([0, 1, 2, ..., 2, 3, 0])"
            ]
          },
          "metadata": {},
          "execution_count": 71
        }
      ]
    },
    {
      "cell_type": "code",
      "source": [
        "np.arange(0, 10001, 1) % 4 != 0"
      ],
      "metadata": {
        "colab": {
          "base_uri": "https://localhost:8080/"
        },
        "id": "m1DQAPh2mKD0",
        "outputId": "4fb06100-2376-4ecf-ce8c-88107605bd1e"
      },
      "execution_count": 72,
      "outputs": [
        {
          "output_type": "execute_result",
          "data": {
            "text/plain": [
              "array([False,  True,  True, ...,  True,  True, False])"
            ]
          },
          "metadata": {},
          "execution_count": 72
        }
      ]
    },
    {
      "cell_type": "code",
      "source": [
        "nums = np.arange(0, 10001, 1)\n",
        "nums[(nums%4 != 0) * (nums%7 != 0)]"
      ],
      "metadata": {
        "colab": {
          "base_uri": "https://localhost:8080/"
        },
        "id": "Q5lPLKpOmPwM",
        "outputId": "e36b5e50-5684-4fc9-e387-4128195ea7fa"
      },
      "execution_count": 73,
      "outputs": [
        {
          "output_type": "execute_result",
          "data": {
            "text/plain": [
              "array([   1,    2,    3, ..., 9997, 9998, 9999])"
            ]
          },
          "metadata": {},
          "execution_count": 73
        }
      ]
    },
    {
      "cell_type": "code",
      "source": [
        "# let's see only first 30 elements which satisfiy the given condition\n",
        "nums = np.arange(0, 10001, 1)\n",
        "nums[(nums%4 != 0) * (nums%7 != 0)][:30]"
      ],
      "metadata": {
        "colab": {
          "base_uri": "https://localhost:8080/"
        },
        "id": "ObP0CCtBmwIe",
        "outputId": "513eb8f0-6d6e-49af-8b76-7afe78521543"
      },
      "execution_count": 74,
      "outputs": [
        {
          "output_type": "execute_result",
          "data": {
            "text/plain": [
              "array([ 1,  2,  3,  5,  6,  9, 10, 11, 13, 15, 17, 18, 19, 22, 23, 25, 26,\n",
              "       27, 29, 30, 31, 33, 34, 37, 38, 39, 41, 43, 45, 46])"
            ]
          },
          "metadata": {},
          "execution_count": 74
        }
      ]
    },
    {
      "cell_type": "code",
      "source": [
        "nums = np.arange(1, 10001, 1)\n",
        "sum(nums[(nums%4 != 0) * (nums%7 != 0)])"
      ],
      "metadata": {
        "colab": {
          "base_uri": "https://localhost:8080/"
        },
        "id": "vC6bMdcjm2tJ",
        "outputId": "a8088e36-3e3e-4c9d-8739-cc6250980cbe"
      },
      "execution_count": 75,
      "outputs": [
        {
          "output_type": "execute_result",
          "data": {
            "text/plain": [
              "32147142"
            ]
          },
          "metadata": {},
          "execution_count": 75
        }
      ]
    },
    {
      "cell_type": "markdown",
      "source": [
        "#### **Question 3**"
      ],
      "metadata": {
        "id": "-Mku22IpnaCv"
      }
    },
    {
      "cell_type": "markdown",
      "source": [
        "Consider the flower petal $r(\\theta) = 1 + {3 \\over 4} \\sin(3\\theta)$ for $ 0 \\le \\theta \\le 2 \\pi$."
      ],
      "metadata": {
        "id": "88dEWY7hUFVr"
      }
    },
    {
      "cell_type": "markdown",
      "source": [
        "1. Make a plot of the flower (find $x$ and $y$ points).\n",
        "2. Compute the are using the calculus formula $A = \\int_{0}^{2\\pi} {1 \\over 2} r^2 d\\theta$\n",
        "3. Compute the arclenght using the calculus formula $L = \\int_{0}^{2\\pi} \\sqrt{r^2 + ({dr \\over d\\theta})^2}d\\theta$"
      ],
      "metadata": {
        "id": "QHQZwrPcUiID"
      }
    },
    {
      "cell_type": "markdown",
      "source": [
        "##### **Answer 1**"
      ],
      "metadata": {
        "id": "H011yBzqV_97"
      }
    },
    {
      "cell_type": "markdown",
      "source": [
        "Make a plot of the flower (find  x  and  y  points)."
      ],
      "metadata": {
        "id": "3H5Nhe3wWTER"
      }
    },
    {
      "cell_type": "code",
      "source": [
        "#1\n",
        "theta = np.linspace(0, 2 * np.pi, 1000)\n",
        "r = 1 + 3/4 * np.sin(3*theta)\n",
        "# convert from polar to cartesian\n",
        "x = r * np.cos(theta)\n",
        "y = r * np.sin(theta)\n",
        "plt.plot(x, y)\n",
        "plt.xlabel('x', fontsize = 15)\n",
        "plt.ylabel('y', fontsize = 15)"
      ],
      "metadata": {
        "colab": {
          "base_uri": "https://localhost:8080/",
          "height": 301
        },
        "id": "WlDQLF9TnS91",
        "outputId": "93eaf780-ca6b-443f-a3e5-1523d2e70a53"
      },
      "execution_count": 161,
      "outputs": [
        {
          "output_type": "execute_result",
          "data": {
            "text/plain": [
              "Text(0, 0.5, 'y')"
            ]
          },
          "metadata": {},
          "execution_count": 161
        },
        {
          "output_type": "display_data",
          "data": {
            "text/plain": [
              "<Figure size 432x288 with 1 Axes>"
            ],
            "image/png": "[encoded data removed]"
          },
          "metadata": {
            "needs_background": "light"
          }
        }
      ]
    },
    {
      "cell_type": "markdown",
      "source": [
        "##### **Answer 2**"
      ],
      "metadata": {
        "id": "tkqCqY6zWG6x"
      }
    },
    {
      "cell_type": "markdown",
      "source": [
        "Compute the are using the calculus formula $A = \\int_{0}^{2\\pi} {1 \\over 2} r^2 d\\theta$"
      ],
      "metadata": {
        "id": "pXt_Kn20WWEm"
      }
    },
    {
      "cell_type": "markdown",
      "source": [
        "###### Area Under the curve"
      ],
      "metadata": {
        "id": "wgkk6OOFXTxS"
      }
    },
    {
      "cell_type": "code",
      "source": [
        "A = 1/2 * sum(r**2) *(theta[1] - theta[0])\n",
        "A"
      ],
      "metadata": {
        "colab": {
          "base_uri": "https://localhost:8080/"
        },
        "id": "IKjfQkhcWJah",
        "outputId": "d45ac0d9-acb0-47e3-b608-8028506e0d59"
      },
      "execution_count": 162,
      "outputs": [
        {
          "output_type": "execute_result",
          "data": {
            "text/plain": [
              "4.028310324802908"
            ]
          },
          "metadata": {},
          "execution_count": 162
        }
      ]
    },
    {
      "cell_type": "markdown",
      "source": [
        "$d\\theta$ = ```np.diff(theta)[0]```"
      ],
      "metadata": {
        "id": "Xe44RrzsduEp"
      }
    },
    {
      "cell_type": "code",
      "source": [
        "A = 1/2 * sum(r**2) * np.diff(theta)[0]\n",
        "A"
      ],
      "metadata": {
        "colab": {
          "base_uri": "https://localhost:8080/"
        },
        "id": "Mqi8Ct3ldf49",
        "outputId": "12c54423-1618-4a93-db5a-de4341f0ef83"
      },
      "execution_count": 164,
      "outputs": [
        {
          "output_type": "execute_result",
          "data": {
            "text/plain": [
              "4.028310324802908"
            ]
          },
          "metadata": {},
          "execution_count": 164
        }
      ]
    },
    {
      "cell_type": "markdown",
      "source": [
        "##### **Answer 3**"
      ],
      "metadata": {
        "id": "wRP68WuXWJ-W"
      }
    },
    {
      "cell_type": "markdown",
      "source": [
        "Compute the arclenght using the calculus formula $L = \\int_{0}^{2\\pi} \\sqrt{r^2 + ({dr \\over d\\theta})^2}d\\theta$"
      ],
      "metadata": {
        "id": "AFNLtsffWXNm"
      }
    },
    {
      "cell_type": "code",
      "source": [
        "L = sum(np.sqrt(r**2 + np.gradient(r, theta)**2)) * (theta[1]-theta[0])\n",
        "L"
      ],
      "metadata": {
        "colab": {
          "base_uri": "https://localhost:8080/"
        },
        "id": "RPIz3W1YWMl-",
        "outputId": "79fa80d2-74a9-48fa-d2c2-b6d68bffb10f"
      },
      "execution_count": 78,
      "outputs": [
        {
          "output_type": "execute_result",
          "data": {
            "text/plain": [
              "11.640021569013872"
            ]
          },
          "metadata": {},
          "execution_count": 78
        }
      ]
    },
    {
      "cell_type": "markdown",
      "source": [
        "#### **Question 4**"
      ],
      "metadata": {
        "id": "wuH_ME-PY8sJ"
      }
    },
    {
      "cell_type": "markdown",
      "source": [
        "The power emitted by a blackbody is $P = A\\sigma\\epsilon T^4$. After measuring the temperature of a star you find that $T(t) = T_0 {1\\over(1+e^{-kt})}$. Plot the total energy emitted by the star as a function of time using the fact that $E(t)= \\int_{t^{'} = 0}^{t^{'} = 1}P(t^{'})dt^{'}$."
      ],
      "metadata": {
        "id": "T0tLbMwQZAtn"
      }
    },
    {
      "cell_type": "code",
      "source": [
        "# how do we plot this energy with unkown data\n",
        "# we can deal with the dimensionless quantity"
      ],
      "metadata": {
        "id": "KDgRlrlUYscb"
      },
      "execution_count": 79,
      "outputs": []
    },
    {
      "cell_type": "markdown",
      "source": [
        "$$P/(A \\sigma \\epsilon) = T^4$$\n",
        "\n",
        "$$P/(A \\sigma \\epsilon T_0^4) = \\left (\\frac{1}{1+e^{-kt}} \\right)^4$$"
      ],
      "metadata": {
        "id": "1wWc-3bjaoe6"
      }
    },
    {
      "cell_type": "markdown",
      "source": [
        "$$E(t) = \\int_{t' = 0}^{t' = 1} P(t') dt'$$\n",
        "$$\\frac{E(t)}{A \\sigma \\epsilon T_0^4} = \\int_{t' = 0}^{t' = 1} \\frac{ P(kt') }{A \\sigma \\epsilon T_0^4}d(kt')$$\n",
        "$$\\frac{k.E(kt)}{A \\sigma \\epsilon T_0^4} =\\int_{t' = 0}^{t' = 1} (\\frac{1 }{1+e^{-kt'}})^4d(kt')$$"
      ],
      "metadata": {
        "id": "7xWDo549AN7S"
      }
    },
    {
      "cell_type": "code",
      "source": [
        "kt = np.linspace(0, 3, 100)\n",
        "P = (1/(1+np.exp(-kt)))**4\n",
        "E = np.cumsum(P) *(kt[1]-kt[0])"
      ],
      "metadata": {
        "id": "IPiRdAW_aZ4n"
      },
      "execution_count": 82,
      "outputs": []
    },
    {
      "cell_type": "code",
      "source": [
        "plt.plot(kt, E)\n",
        "plt.xlabel('$kt$', fontsize = 20)\n",
        "plt.ylabel(r'$\\left(\\frac{k}{A \\sigma \\epsilon T_0^4}\\right) E(kt)$', fontsize=20)"
      ],
      "metadata": {
        "colab": {
          "base_uri": "https://localhost:8080/",
          "height": 308
        },
        "id": "idNVaMn35Eio",
        "outputId": "8d8291ab-28b0-4564-cb46-c706ce202d21"
      },
      "execution_count": 89,
      "outputs": [
        {
          "output_type": "execute_result",
          "data": {
            "text/plain": [
              "Text(0, 0.5, '$\\\\left(\\\\frac{k}{A \\\\sigma \\\\epsilon T_0^4}\\\\right) E(kt)$')"
            ]
          },
          "metadata": {},
          "execution_count": 89
        },
        {
          "output_type": "display_data",
          "data": {
            "text/plain": [
              "<Figure size 432x288 with 1 Axes>"
            ],
            "image/png": "[encoded data removed]"
          },
          "metadata": {
            "needs_background": "light"
          }
        }
      ]
    },
    {
      "cell_type": "markdown",
      "source": [
        "### **Multi-Dimensional Arrays**"
      ],
      "metadata": {
        "id": "ium7O_9989Pl"
      }
    },
    {
      "cell_type": "markdown",
      "source": [
        "#### **Creating multi dimensional arrays**"
      ],
      "metadata": {
        "id": "FeTuhU5S9F-B"
      }
    },
    {
      "cell_type": "code",
      "source": [
        "a1 = np.array([[4, 6, 4 ], [1, 2, 2], [6, 8, 7 ]])"
      ],
      "metadata": {
        "id": "bOULWxrQ5XVv"
      },
      "execution_count": 91,
      "outputs": []
    },
    {
      "cell_type": "code",
      "source": [
        "a1"
      ],
      "metadata": {
        "colab": {
          "base_uri": "https://localhost:8080/"
        },
        "id": "Eu9k3BS89UPK",
        "outputId": "14de2818-a4a3-437e-e5d1-2cf42bed8abf"
      },
      "execution_count": 92,
      "outputs": [
        {
          "output_type": "execute_result",
          "data": {
            "text/plain": [
              "array([[4, 6, 4],\n",
              "       [1, 2, 2],\n",
              "       [6, 8, 7]])"
            ]
          },
          "metadata": {},
          "execution_count": 92
        }
      ]
    },
    {
      "cell_type": "code",
      "source": [
        "2/a1"
      ],
      "metadata": {
        "colab": {
          "base_uri": "https://localhost:8080/"
        },
        "id": "_5FNpVNa9X3w",
        "outputId": "d11fdfbb-f744-4d04-f269-cb0fc62db3e7"
      },
      "execution_count": 94,
      "outputs": [
        {
          "output_type": "execute_result",
          "data": {
            "text/plain": [
              "array([[0.5       , 0.33333333, 0.5       ],\n",
              "       [2.        , 1.        , 1.        ],\n",
              "       [0.33333333, 0.25      , 0.28571429]])"
            ]
          },
          "metadata": {},
          "execution_count": 94
        }
      ]
    },
    {
      "cell_type": "markdown",
      "source": [
        "#### **Can turn any n-dimensional array to a 1d array using ravel() method**"
      ],
      "metadata": {
        "id": "lJre6H7gDBEp"
      }
    },
    {
      "cell_type": "code",
      "source": [
        "a1"
      ],
      "metadata": {
        "colab": {
          "base_uri": "https://localhost:8080/"
        },
        "id": "SoTAv776DQX0",
        "outputId": "7fe897b7-c155-4792-ced9-25d07b6e3793"
      },
      "execution_count": 96,
      "outputs": [
        {
          "output_type": "execute_result",
          "data": {
            "text/plain": [
              "array([[4, 6, 4],\n",
              "       [1, 2, 2],\n",
              "       [6, 8, 7]])"
            ]
          },
          "metadata": {},
          "execution_count": 96
        }
      ]
    },
    {
      "cell_type": "code",
      "source": [
        "a1.ravel()"
      ],
      "metadata": {
        "colab": {
          "base_uri": "https://localhost:8080/"
        },
        "id": "joPP12Yu9ZiS",
        "outputId": "da7b0880-0ffc-4b73-8241-27b2024b7e90"
      },
      "execution_count": 97,
      "outputs": [
        {
          "output_type": "execute_result",
          "data": {
            "text/plain": [
              "array([4, 6, 4, 1, 2, 2, 6, 8, 7])"
            ]
          },
          "metadata": {},
          "execution_count": 97
        }
      ]
    },
    {
      "cell_type": "markdown",
      "source": [
        "#### **Boolean Indexing**"
      ],
      "metadata": {
        "id": "wAJSjbDvDUZ6"
      }
    },
    {
      "cell_type": "code",
      "source": [
        "a1 > 5"
      ],
      "metadata": {
        "colab": {
          "base_uri": "https://localhost:8080/"
        },
        "id": "eOokRiGzDLDY",
        "outputId": "fe75872d-793f-4796-a980-8a46b4d4e0fa"
      },
      "execution_count": 98,
      "outputs": [
        {
          "output_type": "execute_result",
          "data": {
            "text/plain": [
              "array([[False,  True, False],\n",
              "       [False, False, False],\n",
              "       [ True,  True,  True]])"
            ]
          },
          "metadata": {},
          "execution_count": 98
        }
      ]
    },
    {
      "cell_type": "code",
      "source": [
        "a2 = np.random.randn(3, 3)"
      ],
      "metadata": {
        "id": "Q-26XskXDZDh"
      },
      "execution_count": 99,
      "outputs": []
    },
    {
      "cell_type": "code",
      "source": [
        "a2"
      ],
      "metadata": {
        "colab": {
          "base_uri": "https://localhost:8080/"
        },
        "id": "5sGkbBfoDfU6",
        "outputId": "e29b055b-170f-487b-80b7-d176714c7989"
      },
      "execution_count": 100,
      "outputs": [
        {
          "output_type": "execute_result",
          "data": {
            "text/plain": [
              "array([[ 0.68447576,  2.02594426, -1.22956117],\n",
              "       [-0.8818966 ,  1.01125572, -0.56721242],\n",
              "       [-1.61631672,  0.23638958, -1.80513306]])"
            ]
          },
          "metadata": {},
          "execution_count": 100
        }
      ]
    },
    {
      "cell_type": "code",
      "source": [
        "a2[a1>5]"
      ],
      "metadata": {
        "colab": {
          "base_uri": "https://localhost:8080/"
        },
        "id": "vRqTq0nnDf7H",
        "outputId": "9440a79b-8fd3-45fb-d311-6dda4d289987"
      },
      "execution_count": 102,
      "outputs": [
        {
          "output_type": "execute_result",
          "data": {
            "text/plain": [
              "array([ 2.02594426, -1.61631672,  0.23638958, -1.80513306])"
            ]
          },
          "metadata": {},
          "execution_count": 102
        }
      ]
    },
    {
      "cell_type": "markdown",
      "source": [
        "#### **Element Indexing**"
      ],
      "metadata": {
        "id": "mccBY4pjDy1s"
      }
    },
    {
      "cell_type": "code",
      "source": [
        "a1"
      ],
      "metadata": {
        "colab": {
          "base_uri": "https://localhost:8080/"
        },
        "id": "wxEMSFlADjkU",
        "outputId": "f1edfc34-965a-4752-ab74-74a78e403d27"
      },
      "execution_count": 103,
      "outputs": [
        {
          "output_type": "execute_result",
          "data": {
            "text/plain": [
              "array([[4, 6, 4],\n",
              "       [1, 2, 2],\n",
              "       [6, 8, 7]])"
            ]
          },
          "metadata": {},
          "execution_count": 103
        }
      ]
    },
    {
      "cell_type": "code",
      "source": [
        "a1[0]"
      ],
      "metadata": {
        "colab": {
          "base_uri": "https://localhost:8080/"
        },
        "id": "kvOm3NgYD4pa",
        "outputId": "7ab413eb-3cf8-4a56-ed0e-b448fd1665c6"
      },
      "execution_count": 104,
      "outputs": [
        {
          "output_type": "execute_result",
          "data": {
            "text/plain": [
              "array([4, 6, 4])"
            ]
          },
          "metadata": {},
          "execution_count": 104
        }
      ]
    },
    {
      "cell_type": "code",
      "source": [
        "# Go across all rows\n",
        "# give me the first columns of each row\n",
        "a1[:, 0]"
      ],
      "metadata": {
        "colab": {
          "base_uri": "https://localhost:8080/"
        },
        "id": "6lhkCSgHD5ml",
        "outputId": "87465ff9-b4bc-4f6d-ccbf-c3601a1113ed"
      },
      "execution_count": 106,
      "outputs": [
        {
          "output_type": "execute_result",
          "data": {
            "text/plain": [
              "array([4, 1, 6])"
            ]
          },
          "metadata": {},
          "execution_count": 106
        }
      ]
    },
    {
      "cell_type": "code",
      "source": [
        "# Go across from row 2 and the rest\n",
        "# give me the second columns of those rows\n",
        "a1[1: , 1]"
      ],
      "metadata": {
        "colab": {
          "base_uri": "https://localhost:8080/"
        },
        "id": "bxFIQkBrEUao",
        "outputId": "d1af4895-b2f2-46f9-d275-45bab2073e9c"
      },
      "execution_count": 107,
      "outputs": [
        {
          "output_type": "execute_result",
          "data": {
            "text/plain": [
              "array([2, 8])"
            ]
          },
          "metadata": {},
          "execution_count": 107
        }
      ]
    },
    {
      "cell_type": "code",
      "source": [
        "# give me the last two rows\n",
        "# but only first two columns\n",
        "a1[1:, :2]"
      ],
      "metadata": {
        "colab": {
          "base_uri": "https://localhost:8080/"
        },
        "id": "L_fPsfZGD_Op",
        "outputId": "452ae8af-5269-49d7-ccf3-222c1336f695"
      },
      "execution_count": 109,
      "outputs": [
        {
          "output_type": "execute_result",
          "data": {
            "text/plain": [
              "array([[1, 2],\n",
              "       [6, 8]])"
            ]
          },
          "metadata": {},
          "execution_count": 109
        }
      ]
    },
    {
      "cell_type": "markdown",
      "source": [
        "### **Dealing with 2D functions**"
      ],
      "metadata": {
        "id": "4rEGsnHaFDC1"
      }
    },
    {
      "cell_type": "markdown",
      "source": [
        "#### **Function in 2 dimensions. Try this.**"
      ],
      "metadata": {
        "id": "FkMImFUeFHCe"
      }
    },
    {
      "cell_type": "code",
      "source": [
        "x = np.linspace(0, 10, 1000)\n",
        "y = np.linspace(0, 5, 500)"
      ],
      "metadata": {
        "id": "d6iWyYT6E1DM"
      },
      "execution_count": 110,
      "outputs": []
    },
    {
      "cell_type": "code",
      "source": [
        "z = x**2 + y**2"
      ],
      "metadata": {
        "colab": {
          "base_uri": "https://localhost:8080/",
          "height": 172
        },
        "id": "dX8YxGaHFRGY",
        "outputId": "aac0e964-ba1d-48fa-853d-179fcf5273f0"
      },
      "execution_count": 111,
      "outputs": [
        {
          "output_type": "error",
          "ename": "ValueError",
          "evalue": "ignored",
          "traceback": [
            "\u001b[0;31m---------------------------------------------------------------------------\u001b[0m",
            "\u001b[0;31mValueError\u001b[0m                                Traceback (most recent call last)",
            "\u001b[0;32m<ipython-input-111-5fe6559e7cf2>\u001b[0m in \u001b[0;36m<module>\u001b[0;34m\u001b[0m\n\u001b[0;32m----> 1\u001b[0;31m \u001b[0mz\u001b[0m \u001b[0;34m=\u001b[0m \u001b[0mx\u001b[0m\u001b[0;34m**\u001b[0m\u001b[0;36m2\u001b[0m \u001b[0;34m+\u001b[0m \u001b[0my\u001b[0m\u001b[0;34m**\u001b[0m\u001b[0;36m2\u001b[0m\u001b[0;34m\u001b[0m\u001b[0;34m\u001b[0m\u001b[0m\n\u001b[0m",
            "\u001b[0;31mValueError\u001b[0m: operands could not be broadcast together with shapes (1000,) (500,) "
          ]
        }
      ]
    },
    {
      "cell_type": "code",
      "source": [
        "x = np.linspace(0, 10, 1000)\n",
        "y = np.linspace(0, 10, 1000)"
      ],
      "metadata": {
        "id": "kMFkgigfFTR6"
      },
      "execution_count": 115,
      "outputs": []
    },
    {
      "cell_type": "code",
      "source": [
        "z = x**2 + y**2"
      ],
      "metadata": {
        "id": "o82OUGL3FYcM"
      },
      "execution_count": 116,
      "outputs": []
    },
    {
      "cell_type": "markdown",
      "source": [
        "*NO!!!! the above code is not the answer we want*\n",
        "**Because it gives us a 1D array but we want 2D array**"
      ],
      "metadata": {
        "id": "DtACf9LTFo-E"
      }
    },
    {
      "cell_type": "markdown",
      "source": [
        "#### **Need to use meshgrids**"
      ],
      "metadata": {
        "id": "i9kIqMynF0O4"
      }
    },
    {
      "cell_type": "markdown",
      "source": [
        "*A meshgrid is that there are x and y coordinates, if we have 2D arrays, let's say $x^2 + y^2$ and our $z$ pops up on top of it.*"
      ],
      "metadata": {
        "id": "m3ywvSBUGb1E"
      }
    },
    {
      "cell_type": "code",
      "source": [
        "# we are gonna make 2D x-arrays and 2D y-arrays\n",
        "xv, yv = np.meshgrid(x, y) "
      ],
      "metadata": {
        "id": "9OPwLIwjFc9K"
      },
      "execution_count": 118,
      "outputs": []
    },
    {
      "cell_type": "code",
      "source": [
        "xv"
      ],
      "metadata": {
        "colab": {
          "base_uri": "https://localhost:8080/"
        },
        "id": "GkLtnr1RHGxM",
        "outputId": "da327da3-fd2f-4c8c-e41b-4e0fc328a3a7"
      },
      "execution_count": 119,
      "outputs": [
        {
          "output_type": "execute_result",
          "data": {
            "text/plain": [
              "array([[ 0.        ,  0.01001001,  0.02002002, ...,  9.97997998,\n",
              "         9.98998999, 10.        ],\n",
              "       [ 0.        ,  0.01001001,  0.02002002, ...,  9.97997998,\n",
              "         9.98998999, 10.        ],\n",
              "       [ 0.        ,  0.01001001,  0.02002002, ...,  9.97997998,\n",
              "         9.98998999, 10.        ],\n",
              "       ...,\n",
              "       [ 0.        ,  0.01001001,  0.02002002, ...,  9.97997998,\n",
              "         9.98998999, 10.        ],\n",
              "       [ 0.        ,  0.01001001,  0.02002002, ...,  9.97997998,\n",
              "         9.98998999, 10.        ],\n",
              "       [ 0.        ,  0.01001001,  0.02002002, ...,  9.97997998,\n",
              "         9.98998999, 10.        ]])"
            ]
          },
          "metadata": {},
          "execution_count": 119
        }
      ]
    },
    {
      "cell_type": "markdown",
      "source": [
        "*As seen in above output of xv, columwise are the same value which is 2D x-arrary we want.*"
      ],
      "metadata": {
        "id": "DITbnOxaHRrr"
      }
    },
    {
      "cell_type": "code",
      "source": [
        "zv = xv**2 + yv**2"
      ],
      "metadata": {
        "id": "AGHs_JnHHMoW"
      },
      "execution_count": 120,
      "outputs": []
    },
    {
      "cell_type": "markdown",
      "source": [
        "#### **Color Plot**"
      ],
      "metadata": {
        "id": "0cCcrGoqHk04"
      }
    },
    {
      "cell_type": "code",
      "source": [
        "# levels mean strips\n",
        "plt.contourf(xv, yv, zv, levels = 30)\n",
        "# tell values of respective colors\n",
        "plt.colorbar()"
      ],
      "metadata": {
        "colab": {
          "base_uri": "https://localhost:8080/",
          "height": 286
        },
        "id": "P3ra6PXTHjjS",
        "outputId": "9acbfaa4-6bef-44dc-e4ab-dc569e95d14f"
      },
      "execution_count": 125,
      "outputs": [
        {
          "output_type": "execute_result",
          "data": {
            "text/plain": [
              "<matplotlib.colorbar.Colorbar at 0x7f67b1c3b100>"
            ]
          },
          "metadata": {},
          "execution_count": 125
        },
        {
          "output_type": "display_data",
          "data": {
            "text/plain": [
              "<Figure size 432x288 with 2 Axes>"
            ],
            "image/png": "[encoded data removed]"
          },
          "metadata": {
            "needs_background": "light"
          }
        }
      ]
    },
    {
      "cell_type": "markdown",
      "source": [
        "### **Basic Linear Algebra**"
      ],
      "metadata": {
        "id": "iKALksp_ITQT"
      }
    },
    {
      "cell_type": "markdown",
      "source": [
        "#### **Matrix Operations**"
      ],
      "metadata": {
        "id": "G_ZhGrAJIYBv"
      }
    },
    {
      "cell_type": "markdown",
      "source": [
        "##### **Create a matrix**"
      ],
      "metadata": {
        "id": "6869IFGAIo7-"
      }
    },
    {
      "cell_type": "code",
      "source": [
        "A = np.array([[3, 2, 1], [5, -5, 4], [6, 0, 1]])"
      ],
      "metadata": {
        "id": "f29v3P99Hrp7"
      },
      "execution_count": 126,
      "outputs": []
    },
    {
      "cell_type": "code",
      "source": [
        "A"
      ],
      "metadata": {
        "colab": {
          "base_uri": "https://localhost:8080/"
        },
        "id": "ir4sL6a5IlfJ",
        "outputId": "50cdf848-e0a0-4f69-eb41-37ebcb4a4b4d"
      },
      "execution_count": 127,
      "outputs": [
        {
          "output_type": "execute_result",
          "data": {
            "text/plain": [
              "array([[ 3,  2,  1],\n",
              "       [ 5, -5,  4],\n",
              "       [ 6,  0,  1]])"
            ]
          },
          "metadata": {},
          "execution_count": 127
        }
      ]
    },
    {
      "cell_type": "markdown",
      "source": [
        "##### **Create vectors**"
      ],
      "metadata": {
        "id": "PLXJjtH8Iu0z"
      }
    },
    {
      "cell_type": "code",
      "source": [
        "b1 = np.array([1, 2, 3])\n",
        "b2 = np.array([-1, 2, -5])"
      ],
      "metadata": {
        "id": "or0r4QeaInle"
      },
      "execution_count": 128,
      "outputs": []
    },
    {
      "cell_type": "code",
      "source": [
        "b1"
      ],
      "metadata": {
        "colab": {
          "base_uri": "https://localhost:8080/"
        },
        "id": "ojBVdfuyI5Qi",
        "outputId": "9864a715-e4d0-4a16-d2ca-bb1d0139e64d"
      },
      "execution_count": 129,
      "outputs": [
        {
          "output_type": "execute_result",
          "data": {
            "text/plain": [
              "array([1, 2, 3])"
            ]
          },
          "metadata": {},
          "execution_count": 129
        }
      ]
    },
    {
      "cell_type": "code",
      "source": [
        "b2"
      ],
      "metadata": {
        "colab": {
          "base_uri": "https://localhost:8080/"
        },
        "id": "GPbkvQ0AI6sV",
        "outputId": "f606f182-fa2d-4c69-c291-bb30e7dd941c"
      },
      "execution_count": 130,
      "outputs": [
        {
          "output_type": "execute_result",
          "data": {
            "text/plain": [
              "array([-1,  2, -5])"
            ]
          },
          "metadata": {},
          "execution_count": 130
        }
      ]
    },
    {
      "cell_type": "markdown",
      "source": [
        "##### **Matrix Multiplication** "
      ],
      "metadata": {
        "id": "wEVPKrskJCNk"
      }
    },
    {
      "cell_type": "markdown",
      "source": [
        "*Matrix x Vector = Vector*"
      ],
      "metadata": {
        "id": "ieaX0FPzJaOT"
      }
    },
    {
      "cell_type": "code",
      "source": [
        "A@b1"
      ],
      "metadata": {
        "colab": {
          "base_uri": "https://localhost:8080/"
        },
        "id": "CK4p4ULKI7SB",
        "outputId": "156b8c48-553d-41f1-8f92-2630c99c0d3b"
      },
      "execution_count": 131,
      "outputs": [
        {
          "output_type": "execute_result",
          "data": {
            "text/plain": [
              "array([10,  7,  9])"
            ]
          },
          "metadata": {},
          "execution_count": 131
        }
      ]
    },
    {
      "cell_type": "markdown",
      "source": [
        "##### **Matrix Transpose**"
      ],
      "metadata": {
        "id": "edcP0Yo7Jg6U"
      }
    },
    {
      "cell_type": "code",
      "source": [
        "A.T"
      ],
      "metadata": {
        "colab": {
          "base_uri": "https://localhost:8080/"
        },
        "id": "fH7o-2fmJIMv",
        "outputId": "54dac1bd-d026-4d79-fff4-c82fba664335"
      },
      "execution_count": 132,
      "outputs": [
        {
          "output_type": "execute_result",
          "data": {
            "text/plain": [
              "array([[ 3,  5,  6],\n",
              "       [ 2, -5,  0],\n",
              "       [ 1,  4,  1]])"
            ]
          },
          "metadata": {},
          "execution_count": 132
        }
      ]
    },
    {
      "cell_type": "markdown",
      "source": [
        "##### **Dot Product**"
      ],
      "metadata": {
        "id": "DwkRhVqjJteh"
      }
    },
    {
      "cell_type": "markdown",
      "source": [
        "\n",
        "\n",
        "```\n",
        "b1 · b2 = (1)(-1) + (2)(2) + (3)(-5)\n",
        "       = -1 + 4 - 15\n",
        "       = -12\n",
        "\n",
        "```\n",
        "\n"
      ],
      "metadata": {
        "id": "NRx2HOieKlkU"
      }
    },
    {
      "cell_type": "code",
      "source": [
        "np.dot(b1, b2)"
      ],
      "metadata": {
        "colab": {
          "base_uri": "https://localhost:8080/"
        },
        "id": "vnbKM3LjJkc4",
        "outputId": "9a45a1de-0ad7-41a2-8207-62f7d10703fa"
      },
      "execution_count": 133,
      "outputs": [
        {
          "output_type": "execute_result",
          "data": {
            "text/plain": [
              "-12"
            ]
          },
          "metadata": {},
          "execution_count": 133
        }
      ]
    },
    {
      "cell_type": "markdown",
      "source": [
        "##### **Cross Product**"
      ],
      "metadata": {
        "id": "RMSMnnGcJy6U"
      }
    },
    {
      "cell_type": "markdown",
      "source": [
        "\n",
        "\n",
        "\n",
        "Example: The cross product of $a = (1,2,3)$ and $b = (-1,2,-5)$\n",
        "\n",
        "$c_x = a_yb_z − a_zb_y = 2×-5 − 3×2 = 16$\n",
        "\n",
        "$c_y = a_zb_x − a_xb_z = 3×-1 − 1×-5 = 2$\n",
        "\n",
        "$c_z = a_xb_y − a_yb_x = 1×2 − 2×-1 = 4$\n",
        "\n",
        "Answer: $a × b = (-16,2,4)$\n",
        "\n",
        "\n"
      ],
      "metadata": {
        "id": "vTViuGkqLIRo"
      }
    },
    {
      "cell_type": "code",
      "source": [
        "np.cross(b1, b2)"
      ],
      "metadata": {
        "colab": {
          "base_uri": "https://localhost:8080/"
        },
        "id": "FWH_t-X5JrpW",
        "outputId": "157e76ed-2b26-46cc-df0d-2a15c619f17d"
      },
      "execution_count": 134,
      "outputs": [
        {
          "output_type": "execute_result",
          "data": {
            "text/plain": [
              "array([-16,   2,   4])"
            ]
          },
          "metadata": {},
          "execution_count": 134
        }
      ]
    },
    {
      "cell_type": "markdown",
      "source": [
        "#### **Systems of Equations**"
      ],
      "metadata": {
        "id": "0oR3bzCTN7aM"
      }
    },
    {
      "cell_type": "markdown",
      "source": [
        "$3x + 2y + z= 4$\n",
        "\n",
        "$5x - 5y + 4z = 3$\n",
        "\n",
        "$6x + z = 0$"
      ],
      "metadata": {
        "id": "raaw9A7AN_nl"
      }
    },
    {
      "cell_type": "code",
      "source": [
        "# a little bit different from vectors taken by hand in which we use columnwise for X, Y, Z\n",
        "# here we take out the rowwise\n",
        "A = np.array([[3, 2, 1], [5, -5, 4], [6, 0, 1]])\n",
        "c = np.array([4, 3, 0])"
      ],
      "metadata": {
        "id": "3RGqDrT4J4nW"
      },
      "execution_count": 138,
      "outputs": []
    },
    {
      "cell_type": "markdown",
      "source": [
        "##### **np.linalg.solve()**"
      ],
      "metadata": {
        "id": "f1hV-17GOyKN"
      }
    },
    {
      "cell_type": "code",
      "source": [
        "np.linalg.solve(A, c)"
      ],
      "metadata": {
        "colab": {
          "base_uri": "https://localhost:8080/"
        },
        "id": "am2yUgc2Oc9B",
        "outputId": "6fae9ac6-ce32-41a7-a793-0cd08fbc4703"
      },
      "execution_count": 139,
      "outputs": [
        {
          "output_type": "execute_result",
          "data": {
            "text/plain": [
              "array([-0.49056604,  1.26415094,  2.94339623])"
            ]
          },
          "metadata": {},
          "execution_count": 139
        }
      ]
    },
    {
      "cell_type": "markdown",
      "source": [
        "#### **Finding Eigenvalues**"
      ],
      "metadata": {
        "id": "Rg7OrHA2PPQ6"
      }
    },
    {
      "cell_type": "code",
      "source": [
        "A = np.array([[4,2,2], [2,4,2], [2,2,4]])"
      ],
      "metadata": {
        "id": "LY95aWAeO6g2"
      },
      "execution_count": 140,
      "outputs": []
    },
    {
      "cell_type": "code",
      "source": [
        "A"
      ],
      "metadata": {
        "colab": {
          "base_uri": "https://localhost:8080/"
        },
        "id": "guZTgmihPd0G",
        "outputId": "b79670b8-1869-4bcf-af75-3cf3c56362f3"
      },
      "execution_count": 141,
      "outputs": [
        {
          "output_type": "execute_result",
          "data": {
            "text/plain": [
              "array([[4, 2, 2],\n",
              "       [2, 4, 2],\n",
              "       [2, 2, 4]])"
            ]
          },
          "metadata": {},
          "execution_count": 141
        }
      ]
    },
    {
      "cell_type": "markdown",
      "source": [
        "To find eigenvalues, **$| A − λI | = 0$**\n",
        "\n",
        "To find eigenvectors, **$(A-\\lambda I) X = 0$**"
      ],
      "metadata": {
        "id": "TbrJJpiaP640"
      }
    },
    {
      "cell_type": "markdown",
      "source": [
        "##### **np.linalg.eig()**"
      ],
      "metadata": {
        "id": "Hr1JXAl_P_Po"
      }
    },
    {
      "cell_type": "code",
      "source": [
        "eigenvalues, eigenvectors = np.linalg.eig(A)"
      ],
      "metadata": {
        "id": "WXFWHWdmPfem"
      },
      "execution_count": 144,
      "outputs": []
    },
    {
      "cell_type": "code",
      "source": [
        "eigenvalues"
      ],
      "metadata": {
        "colab": {
          "base_uri": "https://localhost:8080/"
        },
        "id": "U8RoW9RkPkHO",
        "outputId": "dd8872ab-04b1-4495-b24d-602f9579b329"
      },
      "execution_count": 145,
      "outputs": [
        {
          "output_type": "execute_result",
          "data": {
            "text/plain": [
              "array([2., 8., 2.])"
            ]
          },
          "metadata": {},
          "execution_count": 145
        }
      ]
    },
    {
      "cell_type": "code",
      "source": [
        "eigenvectors"
      ],
      "metadata": {
        "colab": {
          "base_uri": "https://localhost:8080/"
        },
        "id": "60H2ohovQTk3",
        "outputId": "802ac3a6-6b73-4441-88e1-4b3c11992025"
      },
      "execution_count": 146,
      "outputs": [
        {
          "output_type": "execute_result",
          "data": {
            "text/plain": [
              "array([[-0.81649658,  0.57735027, -0.32444284],\n",
              "       [ 0.40824829,  0.57735027, -0.48666426],\n",
              "       [ 0.40824829,  0.57735027,  0.81110711]])"
            ]
          },
          "metadata": {},
          "execution_count": 146
        }
      ]
    },
    {
      "cell_type": "markdown",
      "source": [
        "**Beware of eigenvector1 is the $1^{st}$ column of eigenvectors.**"
      ],
      "metadata": {
        "id": "0ku5R-WhSTtL"
      }
    },
    {
      "cell_type": "code",
      "source": [
        "eigenvector_v1 = eigenvectors[:, 0]\n",
        "eigenvector_v1"
      ],
      "metadata": {
        "colab": {
          "base_uri": "https://localhost:8080/"
        },
        "id": "ObafJf1VQUiS",
        "outputId": "8c2467e9-c64f-447b-b99d-1e430f8ae10b"
      },
      "execution_count": 148,
      "outputs": [
        {
          "output_type": "execute_result",
          "data": {
            "text/plain": [
              "array([-0.81649658,  0.40824829,  0.40824829])"
            ]
          },
          "metadata": {},
          "execution_count": 148
        }
      ]
    },
    {
      "cell_type": "markdown",
      "source": [
        "**We can check the value of eigenvector_v1 by $AX =λX$**"
      ],
      "metadata": {
        "id": "4W-rTZY5R0Zp"
      }
    },
    {
      "cell_type": "code",
      "source": [
        "A@eigenvector_v1"
      ],
      "metadata": {
        "colab": {
          "base_uri": "https://localhost:8080/"
        },
        "id": "ijvB_f84RuTg",
        "outputId": "1cf5d369-e649-42cf-bb9f-fcb8838fb347"
      },
      "execution_count": 151,
      "outputs": [
        {
          "output_type": "execute_result",
          "data": {
            "text/plain": [
              "array([-1.63299316,  0.81649658,  0.81649658])"
            ]
          },
          "metadata": {},
          "execution_count": 151
        }
      ]
    },
    {
      "cell_type": "code",
      "source": [
        "eigenvalues[0] * eigenvector_v1"
      ],
      "metadata": {
        "colab": {
          "base_uri": "https://localhost:8080/"
        },
        "id": "h2tJC3pFRlzv",
        "outputId": "99b2a310-3966-43b8-bb3e-a1b0a92c9c60"
      },
      "execution_count": 149,
      "outputs": [
        {
          "output_type": "execute_result",
          "data": {
            "text/plain": [
              "array([-1.63299316,  0.81649658,  0.81649658])"
            ]
          },
          "metadata": {},
          "execution_count": 149
        }
      ]
    },
    {
      "cell_type": "markdown",
      "source": [
        "### **Examples**"
      ],
      "metadata": {
        "id": "l41wVHPyShsQ"
      }
    },
    {
      "cell_type": "markdown",
      "source": [
        "#### **Question 1**"
      ],
      "metadata": {
        "id": "GlY2I8wBS9Gu"
      }
    },
    {
      "cell_type": "markdown",
      "source": [
        "Let $f(x,y) = e^{-(x^2 + y^2)}.sin(x)$ for $-2\\le x \\le 2$ and $-2 \\le y \\le 2$.\n",
        "1. Make a contour plot of $f$.\n",
        "2. Find the volume $|f(x, y)|$ in the specified $x$ and $y$ range.\n",
        "3. Find the volume $|f(x,y)|$ only in the region where $\\sqrt{x^2+y^2} > 0.5$ "
      ],
      "metadata": {
        "id": "EzmGkkfbTBjg"
      }
    },
    {
      "cell_type": "code",
      "source": [
        "#1\n",
        "x = np.linspace(-2, 2, 1000)\n",
        "y = np.linspace(-2, 2, 1000)\n",
        "xv, yv = np.meshgrid(x, y)\n",
        "f = np.exp(-(xv**2+yv**2))*np.sin(xv)\n",
        "plt.contourf(xv, yv, f, levels = 100)\n",
        "plt.colorbar()"
      ],
      "metadata": {
        "colab": {
          "base_uri": "https://localhost:8080/",
          "height": 286
        },
        "id": "V1YVCvi8RtXO",
        "outputId": "9a7a4e58-948b-4d16-9efb-7da350ee1dea"
      },
      "execution_count": 166,
      "outputs": [
        {
          "output_type": "execute_result",
          "data": {
            "text/plain": [
              "<matplotlib.colorbar.Colorbar at 0x7f67a3056b80>"
            ]
          },
          "metadata": {},
          "execution_count": 166
        },
        {
          "output_type": "display_data",
          "data": {
            "text/plain": [
              "<Figure size 432x288 with 2 Axes>"
            ],
            "image/png": "[encoded data removed]"
          },
          "metadata": {
            "needs_background": "light"
          }
        }
      ]
    },
    {
      "cell_type": "markdown",
      "source": [
        "##### **Volume**"
      ],
      "metadata": {
        "id": "AMThn_zoca3U"
      }
    },
    {
      "cell_type": "markdown",
      "source": [
        "$$V=∬_Rf(x,y)dA$$\n",
        "\n",
        "$$∬_Rf(x,y)dA=∬_Rf(x,y)dxdy=∬_Rf(x,y)dydx$$"
      ],
      "metadata": {
        "id": "8RjSaE2Ac3pl"
      }
    },
    {
      "cell_type": "code",
      "source": [
        "#2\n",
        "# get all f points in 1D array \n",
        "# use ravel() to convert from 2D to 1D\n",
        "# sum altogether\n",
        "# to get volume we have to integrate with the absolute value\n",
        "# integral is the double integral f dxdy\n",
        "# integration is the summation of 1D array elements multiplied by the limit\n",
        "# dx is receive by np.diff(x)[0]\n",
        "# dy is receive by np.diff(y)[0]\n",
        "# limit is received by means of np.diff(x)[0] * np.diff(x)[0]\n",
        "np.abs(f.ravel()).sum() * np.diff(x)[0] * np.diff(y)[0]"
      ],
      "metadata": {
        "colab": {
          "base_uri": "https://localhost:8080/"
        },
        "id": "lnjB4d0EUZxq",
        "outputId": "7aefb849-e247-438c-b1bf-4dae837c1d4b"
      },
      "execution_count": 167,
      "outputs": [
        {
          "output_type": "execute_result",
          "data": {
            "text/plain": [
              "1.4861858145124311"
            ]
          },
          "metadata": {},
          "execution_count": 167
        }
      ]
    },
    {
      "cell_type": "code",
      "source": [
        "#3\n",
        "# we will set a circle\n",
        "# we want the boundary which is outside that circle\n",
        "xv**2 + yv**2 > 0.5**2"
      ],
      "metadata": {
        "colab": {
          "base_uri": "https://localhost:8080/"
        },
        "id": "vJF5Tt0laM_T",
        "outputId": "2337f394-2f6a-4c0a-c701-c61244ead578"
      },
      "execution_count": 168,
      "outputs": [
        {
          "output_type": "execute_result",
          "data": {
            "text/plain": [
              "array([[ True,  True,  True, ...,  True,  True,  True],\n",
              "       [ True,  True,  True, ...,  True,  True,  True],\n",
              "       [ True,  True,  True, ...,  True,  True,  True],\n",
              "       ...,\n",
              "       [ True,  True,  True, ...,  True,  True,  True],\n",
              "       [ True,  True,  True, ...,  True,  True,  True],\n",
              "       [ True,  True,  True, ...,  True,  True,  True]])"
            ]
          },
          "metadata": {},
          "execution_count": 168
        }
      ]
    },
    {
      "cell_type": "code",
      "source": [
        "f[xv**2 + yv**2 > 0.5**2]"
      ],
      "metadata": {
        "colab": {
          "base_uri": "https://localhost:8080/"
        },
        "id": "zL_LP0c4eYq0",
        "outputId": "c4e2859b-e7e8-4d54-ca25-38f410fadfc4"
      },
      "execution_count": 169,
      "outputs": [
        {
          "output_type": "execute_result",
          "data": {
            "text/plain": [
              "array([-0.00030504, -0.00031052, -0.00031609, ...,  0.00031609,\n",
              "        0.00031052,  0.00030504])"
            ]
          },
          "metadata": {},
          "execution_count": 169
        }
      ]
    },
    {
      "cell_type": "code",
      "source": [
        "#all we need to do is just to integrate this f by following the steps in no_2\n",
        "np.abs(f[xv**2 + yv**2 > 0.5**2].ravel()).sum() * np.diff(x)[0] * np.diff(y)[0]"
      ],
      "metadata": {
        "colab": {
          "base_uri": "https://localhost:8080/"
        },
        "id": "7IrePacreiGd",
        "outputId": "cffa0503-4e76-4764-a4fd-eb4bc28b49fa"
      },
      "execution_count": 170,
      "outputs": [
        {
          "output_type": "execute_result",
          "data": {
            "text/plain": [
              "1.3447652930203164"
            ]
          },
          "metadata": {},
          "execution_count": 170
        }
      ]
    },
    {
      "cell_type": "markdown",
      "source": [
        "#### **Question 2**"
      ],
      "metadata": {
        "id": "xjYfbXQ6e-Tk"
      }
    },
    {
      "cell_type": "markdown",
      "source": [
        "After examining a circuit full of resistors, you find that the voltage at 4 specified points is given by\n",
        "\n",
        "$3V_1 + 2 V_2 + 3V_3 + 10V_4 = 4$\n",
        "\n",
        "$2V_1 - 2 V_2 + 5V_3 + 8V_4 = 1$\n",
        "\n",
        "$3V_1 + 3 V_2 + 4V_3 + 9V_4 = 3$\n",
        "\n",
        "$3V_1 + 4V_2 - 3V_3 - 7V_4 = 2$\n",
        "\n",
        "Find all the voltages."
      ],
      "metadata": {
        "id": "XtuFPzyafBuy"
      }
    },
    {
      "cell_type": "code",
      "source": [
        "A = np.array([[3, 2, 3, 10], [2, -2, 5, 8], [3, 3, 4, 9], [3, 4, -3, -7]])\n",
        "c = np.array([4, 1, 3, 2])\n",
        "np.linalg.solve(A, c)"
      ],
      "metadata": {
        "colab": {
          "base_uri": "https://localhost:8080/"
        },
        "id": "toO64rsYe3xi",
        "outputId": "b12be366-5458-4cd2-f127-5f3b50de7879"
      },
      "execution_count": 172,
      "outputs": [
        {
          "output_type": "execute_result",
          "data": {
            "text/plain": [
              "array([ 0.78378378,  0.03603604, -0.67567568,  0.36036036])"
            ]
          },
          "metadata": {},
          "execution_count": 172
        }
      ]
    },
    {
      "cell_type": "markdown",
      "source": [
        "#### **Question 3 (tougher)**"
      ],
      "metadata": {
        "id": "OJtROLzqgNQU"
      }
    },
    {
      "cell_type": "markdown",
      "source": [
        "An electric field is given by $\\vec{E}(z, t) = E_0 cos(z -t) \\hat{x} + 2E_0 cos(z-t + \\pi / 2)\\hat{y}$\n",
        "\n",
        "1. Find the magnetic field for all  $z $ $\\epsilon [0, 4\\pi]$ and $t \\epsilon [0, 10]$ using $\\vec{B}(z, t) = \\hat{z}$ x $\\vec{E}(z, t)$\n",
        "2. Compute the Poynting vector $\\vec{S} = \\vec{E}$ x $\\vec{B}$ for all $z$ and $t$."
      ],
      "metadata": {
        "id": "fa9DbYNAgT2H"
      }
    },
    {
      "cell_type": "code",
      "source": [
        "#1 \n",
        "# function of z and t\n",
        "# let's use meshgrid for these two\n",
        "z = np.linspace(0, 4*np.pi, 100)\n",
        "t = np.linspace(0, 10, 100)\n",
        "\n",
        "tv, zv = np.meshgrid(t, z)\n",
        "\n",
        "Ex = np.cos(zv-tv)\n",
        "Ey = 2*np.cos(zv-tv + np.pi/2)\n",
        "Ez = 0*tv # this is the trick which will give the right dimensional array"
      ],
      "metadata": {
        "id": "cjXHd0D8f6m7"
      },
      "execution_count": 176,
      "outputs": []
    },
    {
      "cell_type": "code",
      "source": [
        "Ez"
      ],
      "metadata": {
        "colab": {
          "base_uri": "https://localhost:8080/"
        },
        "id": "mnzVUbcHlLhW",
        "outputId": "d1ade986-5287-418f-e6a9-2cf4f51da3ae"
      },
      "execution_count": 177,
      "outputs": [
        {
          "output_type": "execute_result",
          "data": {
            "text/plain": [
              "array([[0., 0., 0., ..., 0., 0., 0.],\n",
              "       [0., 0., 0., ..., 0., 0., 0.],\n",
              "       [0., 0., 0., ..., 0., 0., 0.],\n",
              "       ...,\n",
              "       [0., 0., 0., ..., 0., 0., 0.],\n",
              "       [0., 0., 0., ..., 0., 0., 0.],\n",
              "       [0., 0., 0., ..., 0., 0., 0.]])"
            ]
          },
          "metadata": {},
          "execution_count": 177
        }
      ]
    },
    {
      "cell_type": "markdown",
      "source": [
        "$E_x$ as function of $t$ at $z = 0$"
      ],
      "metadata": {
        "id": "ZtJPMI2kl3Cv"
      }
    },
    {
      "cell_type": "code",
      "source": [
        "plt.plot(t, Ex[0])"
      ],
      "metadata": {
        "colab": {
          "base_uri": "https://localhost:8080/",
          "height": 282
        },
        "id": "G30n3-iTlz3w",
        "outputId": "5ae3b134-04f9-4e76-d18b-8230ca7ab46d"
      },
      "execution_count": 178,
      "outputs": [
        {
          "output_type": "execute_result",
          "data": {
            "text/plain": [
              "[<matplotlib.lines.Line2D at 0x7f67a3341fd0>]"
            ]
          },
          "metadata": {},
          "execution_count": 178
        },
        {
          "output_type": "display_data",
          "data": {
            "text/plain": [
              "<Figure size 432x288 with 1 Axes>"
            ],
            "image/png": "[encoded data removed]"
          },
          "metadata": {
            "needs_background": "light"
          }
        }
      ]
    },
    {
      "cell_type": "markdown",
      "source": [
        "$E_x$ as function of $z$ at $t = 0$"
      ],
      "metadata": {
        "id": "8soEtXMMmL2u"
      }
    },
    {
      "cell_type": "markdown",
      "source": [
        "Intuitively, you can see that the sinusoidal wave will be received when t = 0 at $E_0 cos(z -t) \\hat{x}$"
      ],
      "metadata": {
        "id": "f-9CIiqEnn-J"
      }
    },
    {
      "cell_type": "code",
      "source": [
        "# we cannot replace the position of t by z \n",
        "# remember that E_x = f(z,t)\n",
        "plt.plot(t, Ex[:, 0])"
      ],
      "metadata": {
        "colab": {
          "base_uri": "https://localhost:8080/",
          "height": 282
        },
        "id": "cLeAvoFxmEGy",
        "outputId": "0c3dbc80-38ed-4216-9ca4-0261bb8702c1"
      },
      "execution_count": 181,
      "outputs": [
        {
          "output_type": "execute_result",
          "data": {
            "text/plain": [
              "[<matplotlib.lines.Line2D at 0x7f67a2e5ae80>]"
            ]
          },
          "metadata": {},
          "execution_count": 181
        },
        {
          "output_type": "display_data",
          "data": {
            "text/plain": [
              "<Figure size 432x288 with 1 Axes>"
            ],
            "image/png": "[encoded data removed]"
          },
          "metadata": {
            "needs_background": "light"
          }
        }
      ]
    },
    {
      "cell_type": "code",
      "source": [
        "# this is the 3D array\n",
        "E_ = np.array([Ex, Ey, Ez])\n",
        "E_"
      ],
      "metadata": {
        "colab": {
          "base_uri": "https://localhost:8080/"
        },
        "id": "KGK3AW3pmU9x",
        "outputId": "b54ad5ac-9aeb-4f50-9e6c-29f4d3e78120"
      },
      "execution_count": 206,
      "outputs": [
        {
          "output_type": "execute_result",
          "data": {
            "text/plain": [
              "array([[[ 1.00000000e+00,  9.94902816e-01,  9.79663226e-01, ...,\n",
              "         -9.31164735e-01, -8.89652856e-01, -8.39071529e-01],\n",
              "        [ 9.91954813e-01,  9.99664020e-01,  9.97182283e-01, ...,\n",
              "         -9.69828789e-01, -9.40302293e-01, -9.01190009e-01],\n",
              "        [ 9.67948701e-01,  9.88340255e-01,  9.98656304e-01, ...,\n",
              "         -9.92887934e-01, -9.75821913e-01, -9.48808004e-01],\n",
              "        ...,\n",
              "        [ 9.67948701e-01,  9.37689522e-01,  8.97871191e-01, ...,\n",
              "         -8.09751458e-01, -7.46454741e-01, -6.75548390e-01],\n",
              "        [ 9.91954813e-01,  9.74133253e-01,  9.46381021e-01, ...,\n",
              "         -8.77517892e-01, -8.24688573e-01, -7.63452074e-01],\n",
              "        [ 1.00000000e+00,  9.94902816e-01,  9.79663226e-01, ...,\n",
              "         -9.31164735e-01, -8.89652856e-01, -8.39071529e-01]],\n",
              "\n",
              "       [[ 1.22464680e-16,  2.01676841e-01,  4.01297713e-01, ...,\n",
              "         -7.29197467e-01, -9.13274975e-01, -1.08804222e+00],\n",
              "        [-2.53184907e-01, -5.18400645e-02,  1.50033255e-01, ...,\n",
              "         -4.87574080e-01, -6.80680831e-01, -8.66848471e-01],\n",
              "        [-5.02295974e-01, -3.04522843e-01, -1.03645294e-01, ...,\n",
              "         -2.38105444e-01, -4.37134278e-01, -6.31706804e-01],\n",
              "        ...,\n",
              "        [ 5.02295974e-01,  6.94948515e-01,  8.80516495e-01, ...,\n",
              "         -1.17354604e+00, -1.33087237e+00, -1.47463131e+00],\n",
              "        [ 2.53184907e-01,  4.51948690e-01,  6.46105141e-01, ...,\n",
              "         -9.59087794e-01, -1.13117418e+00, -1.29172897e+00],\n",
              "        [ 1.10218212e-15,  2.01676841e-01,  4.01297713e-01, ...,\n",
              "         -7.29197467e-01, -9.13274975e-01, -1.08804222e+00]],\n",
              "\n",
              "       [[ 0.00000000e+00,  0.00000000e+00,  0.00000000e+00, ...,\n",
              "          0.00000000e+00,  0.00000000e+00,  0.00000000e+00],\n",
              "        [ 0.00000000e+00,  0.00000000e+00,  0.00000000e+00, ...,\n",
              "          0.00000000e+00,  0.00000000e+00,  0.00000000e+00],\n",
              "        [ 0.00000000e+00,  0.00000000e+00,  0.00000000e+00, ...,\n",
              "          0.00000000e+00,  0.00000000e+00,  0.00000000e+00],\n",
              "        ...,\n",
              "        [ 0.00000000e+00,  0.00000000e+00,  0.00000000e+00, ...,\n",
              "          0.00000000e+00,  0.00000000e+00,  0.00000000e+00],\n",
              "        [ 0.00000000e+00,  0.00000000e+00,  0.00000000e+00, ...,\n",
              "          0.00000000e+00,  0.00000000e+00,  0.00000000e+00],\n",
              "        [ 0.00000000e+00,  0.00000000e+00,  0.00000000e+00, ...,\n",
              "          0.00000000e+00,  0.00000000e+00,  0.00000000e+00]]])"
            ]
          },
          "metadata": {},
          "execution_count": 206
        }
      ]
    },
    {
      "cell_type": "code",
      "source": [
        "# we want [Ex, Ey, Ez] in vector \n",
        "# swap the outer axis  = 0 which means here Ex, here Ey, here Ez\n",
        "# swap the last axis = -1 which means all the indiviual pts themeselves \n",
        "E = np.swapaxes(E_, 0, -1)\n",
        "E"
      ],
      "metadata": {
        "colab": {
          "base_uri": "https://localhost:8080/"
        },
        "id": "FyOagd-joa9x",
        "outputId": "a4df7a83-607a-461a-b0d3-b52e1ff76110"
      },
      "execution_count": 207,
      "outputs": [
        {
          "output_type": "execute_result",
          "data": {
            "text/plain": [
              "array([[[ 1.00000000e+00,  1.22464680e-16,  0.00000000e+00],\n",
              "        [ 9.91954813e-01, -2.53184907e-01,  0.00000000e+00],\n",
              "        [ 9.67948701e-01, -5.02295974e-01,  0.00000000e+00],\n",
              "        ...,\n",
              "        [ 9.67948701e-01,  5.02295974e-01,  0.00000000e+00],\n",
              "        [ 9.91954813e-01,  2.53184907e-01,  0.00000000e+00],\n",
              "        [ 1.00000000e+00,  1.10218212e-15,  0.00000000e+00]],\n",
              "\n",
              "       [[ 9.94902816e-01,  2.01676841e-01,  0.00000000e+00],\n",
              "        [ 9.99664020e-01, -5.18400645e-02,  0.00000000e+00],\n",
              "        [ 9.88340255e-01, -3.04522843e-01,  0.00000000e+00],\n",
              "        ...,\n",
              "        [ 9.37689522e-01,  6.94948515e-01,  0.00000000e+00],\n",
              "        [ 9.74133253e-01,  4.51948690e-01,  0.00000000e+00],\n",
              "        [ 9.94902816e-01,  2.01676841e-01,  0.00000000e+00]],\n",
              "\n",
              "       [[ 9.79663226e-01,  4.01297713e-01,  0.00000000e+00],\n",
              "        [ 9.97182283e-01,  1.50033255e-01,  0.00000000e+00],\n",
              "        [ 9.98656304e-01, -1.03645294e-01,  0.00000000e+00],\n",
              "        ...,\n",
              "        [ 8.97871191e-01,  8.80516495e-01,  0.00000000e+00],\n",
              "        [ 9.46381021e-01,  6.46105141e-01,  0.00000000e+00],\n",
              "        [ 9.79663226e-01,  4.01297713e-01,  0.00000000e+00]],\n",
              "\n",
              "       ...,\n",
              "\n",
              "       [[-9.31164735e-01, -7.29197467e-01,  0.00000000e+00],\n",
              "        [-9.69828789e-01, -4.87574080e-01,  0.00000000e+00],\n",
              "        [-9.92887934e-01, -2.38105444e-01,  0.00000000e+00],\n",
              "        ...,\n",
              "        [-8.09751458e-01, -1.17354604e+00,  0.00000000e+00],\n",
              "        [-8.77517892e-01, -9.59087794e-01,  0.00000000e+00],\n",
              "        [-9.31164735e-01, -7.29197467e-01,  0.00000000e+00]],\n",
              "\n",
              "       [[-8.89652856e-01, -9.13274975e-01,  0.00000000e+00],\n",
              "        [-9.40302293e-01, -6.80680831e-01,  0.00000000e+00],\n",
              "        [-9.75821913e-01, -4.37134278e-01,  0.00000000e+00],\n",
              "        ...,\n",
              "        [-7.46454741e-01, -1.33087237e+00,  0.00000000e+00],\n",
              "        [-8.24688573e-01, -1.13117418e+00,  0.00000000e+00],\n",
              "        [-8.89652856e-01, -9.13274975e-01,  0.00000000e+00]],\n",
              "\n",
              "       [[-8.39071529e-01, -1.08804222e+00,  0.00000000e+00],\n",
              "        [-9.01190009e-01, -8.66848471e-01,  0.00000000e+00],\n",
              "        [-9.48808004e-01, -6.31706804e-01,  0.00000000e+00],\n",
              "        ...,\n",
              "        [-6.75548390e-01, -1.47463131e+00,  0.00000000e+00],\n",
              "        [-7.63452074e-01, -1.29172897e+00,  0.00000000e+00],\n",
              "        [-8.39071529e-01, -1.08804222e+00,  0.00000000e+00]]])"
            ]
          },
          "metadata": {},
          "execution_count": 207
        }
      ]
    },
    {
      "cell_type": "code",
      "source": [
        "B = np.cross(np.array([0, 0, 1]), E)\n",
        "B\n",
        "# remember that we have to swap B back"
      ],
      "metadata": {
        "colab": {
          "base_uri": "https://localhost:8080/"
        },
        "id": "QtuYYxLSo80n",
        "outputId": "3898cb81-b94f-486b-c369-e107122d71f4"
      },
      "execution_count": 231,
      "outputs": [
        {
          "output_type": "execute_result",
          "data": {
            "text/plain": [
              "array([[[-1.22464680e-16,  1.00000000e+00,  0.00000000e+00],\n",
              "        [ 2.53184907e-01,  9.91954813e-01, -0.00000000e+00],\n",
              "        [ 5.02295974e-01,  9.67948701e-01, -0.00000000e+00],\n",
              "        ...,\n",
              "        [-5.02295974e-01,  9.67948701e-01,  0.00000000e+00],\n",
              "        [-2.53184907e-01,  9.91954813e-01,  0.00000000e+00],\n",
              "        [-1.10218212e-15,  1.00000000e+00,  0.00000000e+00]],\n",
              "\n",
              "       [[-2.01676841e-01,  9.94902816e-01,  0.00000000e+00],\n",
              "        [ 5.18400645e-02,  9.99664020e-01, -0.00000000e+00],\n",
              "        [ 3.04522843e-01,  9.88340255e-01, -0.00000000e+00],\n",
              "        ...,\n",
              "        [-6.94948515e-01,  9.37689522e-01,  0.00000000e+00],\n",
              "        [-4.51948690e-01,  9.74133253e-01,  0.00000000e+00],\n",
              "        [-2.01676841e-01,  9.94902816e-01,  0.00000000e+00]],\n",
              "\n",
              "       [[-4.01297713e-01,  9.79663226e-01,  0.00000000e+00],\n",
              "        [-1.50033255e-01,  9.97182283e-01,  0.00000000e+00],\n",
              "        [ 1.03645294e-01,  9.98656304e-01, -0.00000000e+00],\n",
              "        ...,\n",
              "        [-8.80516495e-01,  8.97871191e-01,  0.00000000e+00],\n",
              "        [-6.46105141e-01,  9.46381021e-01,  0.00000000e+00],\n",
              "        [-4.01297713e-01,  9.79663226e-01,  0.00000000e+00]],\n",
              "\n",
              "       ...,\n",
              "\n",
              "       [[ 7.29197467e-01, -9.31164735e-01,  0.00000000e+00],\n",
              "        [ 4.87574080e-01, -9.69828789e-01,  0.00000000e+00],\n",
              "        [ 2.38105444e-01, -9.92887934e-01,  0.00000000e+00],\n",
              "        ...,\n",
              "        [ 1.17354604e+00, -8.09751458e-01,  0.00000000e+00],\n",
              "        [ 9.59087794e-01, -8.77517892e-01,  0.00000000e+00],\n",
              "        [ 7.29197467e-01, -9.31164735e-01,  0.00000000e+00]],\n",
              "\n",
              "       [[ 9.13274975e-01, -8.89652856e-01,  0.00000000e+00],\n",
              "        [ 6.80680831e-01, -9.40302293e-01,  0.00000000e+00],\n",
              "        [ 4.37134278e-01, -9.75821913e-01,  0.00000000e+00],\n",
              "        ...,\n",
              "        [ 1.33087237e+00, -7.46454741e-01,  0.00000000e+00],\n",
              "        [ 1.13117418e+00, -8.24688573e-01,  0.00000000e+00],\n",
              "        [ 9.13274975e-01, -8.89652856e-01,  0.00000000e+00]],\n",
              "\n",
              "       [[ 1.08804222e+00, -8.39071529e-01,  0.00000000e+00],\n",
              "        [ 8.66848471e-01, -9.01190009e-01,  0.00000000e+00],\n",
              "        [ 6.31706804e-01, -9.48808004e-01,  0.00000000e+00],\n",
              "        ...,\n",
              "        [ 1.47463131e+00, -6.75548390e-01,  0.00000000e+00],\n",
              "        [ 1.29172897e+00, -7.63452074e-01,  0.00000000e+00],\n",
              "        [ 1.08804222e+00, -8.39071529e-01,  0.00000000e+00]]])"
            ]
          },
          "metadata": {},
          "execution_count": 231
        }
      ]
    },
    {
      "cell_type": "code",
      "source": [
        "B_ = np.swapaxes(B, 0, -1)\n",
        "B_"
      ],
      "metadata": {
        "colab": {
          "base_uri": "https://localhost:8080/"
        },
        "id": "3l4mok7-qC6X",
        "outputId": "83225d35-9b35-4b23-a1ac-07ed0483b007"
      },
      "execution_count": 232,
      "outputs": [
        {
          "output_type": "execute_result",
          "data": {
            "text/plain": [
              "array([[[-1.22464680e-16, -2.01676841e-01, -4.01297713e-01, ...,\n",
              "          7.29197467e-01,  9.13274975e-01,  1.08804222e+00],\n",
              "        [ 2.53184907e-01,  5.18400645e-02, -1.50033255e-01, ...,\n",
              "          4.87574080e-01,  6.80680831e-01,  8.66848471e-01],\n",
              "        [ 5.02295974e-01,  3.04522843e-01,  1.03645294e-01, ...,\n",
              "          2.38105444e-01,  4.37134278e-01,  6.31706804e-01],\n",
              "        ...,\n",
              "        [-5.02295974e-01, -6.94948515e-01, -8.80516495e-01, ...,\n",
              "          1.17354604e+00,  1.33087237e+00,  1.47463131e+00],\n",
              "        [-2.53184907e-01, -4.51948690e-01, -6.46105141e-01, ...,\n",
              "          9.59087794e-01,  1.13117418e+00,  1.29172897e+00],\n",
              "        [-1.10218212e-15, -2.01676841e-01, -4.01297713e-01, ...,\n",
              "          7.29197467e-01,  9.13274975e-01,  1.08804222e+00]],\n",
              "\n",
              "       [[ 1.00000000e+00,  9.94902816e-01,  9.79663226e-01, ...,\n",
              "         -9.31164735e-01, -8.89652856e-01, -8.39071529e-01],\n",
              "        [ 9.91954813e-01,  9.99664020e-01,  9.97182283e-01, ...,\n",
              "         -9.69828789e-01, -9.40302293e-01, -9.01190009e-01],\n",
              "        [ 9.67948701e-01,  9.88340255e-01,  9.98656304e-01, ...,\n",
              "         -9.92887934e-01, -9.75821913e-01, -9.48808004e-01],\n",
              "        ...,\n",
              "        [ 9.67948701e-01,  9.37689522e-01,  8.97871191e-01, ...,\n",
              "         -8.09751458e-01, -7.46454741e-01, -6.75548390e-01],\n",
              "        [ 9.91954813e-01,  9.74133253e-01,  9.46381021e-01, ...,\n",
              "         -8.77517892e-01, -8.24688573e-01, -7.63452074e-01],\n",
              "        [ 1.00000000e+00,  9.94902816e-01,  9.79663226e-01, ...,\n",
              "         -9.31164735e-01, -8.89652856e-01, -8.39071529e-01]],\n",
              "\n",
              "       [[ 0.00000000e+00,  0.00000000e+00,  0.00000000e+00, ...,\n",
              "          0.00000000e+00,  0.00000000e+00,  0.00000000e+00],\n",
              "        [-0.00000000e+00, -0.00000000e+00,  0.00000000e+00, ...,\n",
              "          0.00000000e+00,  0.00000000e+00,  0.00000000e+00],\n",
              "        [-0.00000000e+00, -0.00000000e+00, -0.00000000e+00, ...,\n",
              "          0.00000000e+00,  0.00000000e+00,  0.00000000e+00],\n",
              "        ...,\n",
              "        [ 0.00000000e+00,  0.00000000e+00,  0.00000000e+00, ...,\n",
              "          0.00000000e+00,  0.00000000e+00,  0.00000000e+00],\n",
              "        [ 0.00000000e+00,  0.00000000e+00,  0.00000000e+00, ...,\n",
              "          0.00000000e+00,  0.00000000e+00,  0.00000000e+00],\n",
              "        [ 0.00000000e+00,  0.00000000e+00,  0.00000000e+00, ...,\n",
              "          0.00000000e+00,  0.00000000e+00,  0.00000000e+00]]])"
            ]
          },
          "metadata": {},
          "execution_count": 232
        }
      ]
    },
    {
      "cell_type": "code",
      "source": [
        "Bx, By, Bz = B_"
      ],
      "metadata": {
        "id": "YI_RMynDqbRi"
      },
      "execution_count": 210,
      "outputs": []
    },
    {
      "cell_type": "code",
      "source": [
        "Bz"
      ],
      "metadata": {
        "colab": {
          "base_uri": "https://localhost:8080/"
        },
        "id": "NTQ5bCSHqjza",
        "outputId": "caa4eb2b-4b11-4b5f-d20f-a6eb83705fe1"
      },
      "execution_count": 200,
      "outputs": [
        {
          "output_type": "execute_result",
          "data": {
            "text/plain": [
              "array([[ 0.,  0.,  0., ...,  0.,  0.,  0.],\n",
              "       [-0., -0.,  0., ...,  0.,  0.,  0.],\n",
              "       [-0., -0., -0., ...,  0.,  0.,  0.],\n",
              "       ...,\n",
              "       [ 0.,  0.,  0., ...,  0.,  0.,  0.],\n",
              "       [ 0.,  0.,  0., ...,  0.,  0.,  0.],\n",
              "       [ 0.,  0.,  0., ...,  0.,  0.,  0.]])"
            ]
          },
          "metadata": {},
          "execution_count": 200
        }
      ]
    },
    {
      "cell_type": "code",
      "source": [
        "plt.plot(t, Ey[0])\n",
        "plt.plot(t, Bx[0])"
      ],
      "metadata": {
        "colab": {
          "base_uri": "https://localhost:8080/",
          "height": 282
        },
        "id": "fy2QoyBJqlAr",
        "outputId": "981d9338-b271-456e-ed2f-4e862e35db90"
      },
      "execution_count": 211,
      "outputs": [
        {
          "output_type": "execute_result",
          "data": {
            "text/plain": [
              "[<matplotlib.lines.Line2D at 0x7f67a2b3a670>]"
            ]
          },
          "metadata": {},
          "execution_count": 211
        },
        {
          "output_type": "display_data",
          "data": {
            "text/plain": [
              "<Figure size 432x288 with 1 Axes>"
            ],
            "image/png": "[encoded data removed]"
          },
          "metadata": {
            "needs_background": "light"
          }
        }
      ]
    },
    {
      "cell_type": "code",
      "source": [
        "#3\n",
        "S_ = np.cross(E, B)\n",
        "S_"
      ],
      "metadata": {
        "colab": {
          "base_uri": "https://localhost:8080/"
        },
        "id": "8-LTm28VqusQ",
        "outputId": "13263338-b62a-4ce6-e8cf-e8655487dc7d"
      },
      "execution_count": 238,
      "outputs": [
        {
          "output_type": "execute_result",
          "data": {
            "text/plain": [
              "array([[[ 0.        , -0.        ,  1.        ],\n",
              "        [ 0.        ,  0.        ,  1.04807695],\n",
              "        [ 0.        ,  0.        ,  1.18922593],\n",
              "        ...,\n",
              "        [ 0.        , -0.        ,  1.18922593],\n",
              "        [ 0.        , -0.        ,  1.04807695],\n",
              "        [ 0.        , -0.        ,  1.        ]],\n",
              "\n",
              "       [[ 0.        , -0.        ,  1.03050516],\n",
              "        [ 0.        ,  0.        ,  1.00201554],\n",
              "        [ 0.        ,  0.        ,  1.06955062],\n",
              "        ...,\n",
              "        [ 0.        , -0.        ,  1.36221508],\n",
              "        [ 0.        , -0.        ,  1.15319321],\n",
              "        [ 0.        , -0.        ,  1.03050516]],\n",
              "\n",
              "       [[ 0.        , -0.        ,  1.12077989],\n",
              "        [ 0.        , -0.        ,  1.01688248],\n",
              "        [ 0.        ,  0.        ,  1.00805676],\n",
              "        ...,\n",
              "        [ 0.        , -0.        ,  1.58148197],\n",
              "        [ 0.        , -0.        ,  1.31308889],\n",
              "        [ 0.        , -0.        ,  1.12077989]],\n",
              "\n",
              "       ...,\n",
              "\n",
              "       [[ 0.        ,  0.        ,  1.39879671],\n",
              "        [ 0.        ,  0.        ,  1.17829636],\n",
              "        [ 0.        ,  0.        ,  1.04252065],\n",
              "        ...,\n",
              "        [ 0.        ,  0.        ,  2.03290773],\n",
              "        [ 0.        ,  0.        ,  1.68988705],\n",
              "        [ 0.        ,  0.        ,  1.39879671]],\n",
              "\n",
              "       [[ 0.        ,  0.        ,  1.62555339],\n",
              "        [ 0.        ,  0.        ,  1.3474948 ],\n",
              "        [ 0.        ,  0.        ,  1.14331478],\n",
              "        ...,\n",
              "        [ 0.        ,  0.        ,  2.32841596],\n",
              "        [ 0.        ,  0.        ,  1.95966627],\n",
              "        [ 0.        ,  0.        ,  1.62555339]],\n",
              "\n",
              "       [[ 0.        ,  0.        ,  1.88787691],\n",
              "        [ 0.        ,  0.        ,  1.5635697 ],\n",
              "        [ 0.        ,  0.        ,  1.29929012],\n",
              "        ...,\n",
              "        [ 0.        ,  0.        ,  2.63090312],\n",
              "        [ 0.        ,  0.        ,  2.25142279],\n",
              "        [ 0.        ,  0.        ,  1.88787691]]])"
            ]
          },
          "metadata": {},
          "execution_count": 238
        }
      ]
    },
    {
      "cell_type": "code",
      "source": [
        "E.shape"
      ],
      "metadata": {
        "colab": {
          "base_uri": "https://localhost:8080/"
        },
        "id": "gIjrRNPtstBP",
        "outputId": "b327b25f-1e26-4710-cd8b-1eefe3d7c6ad"
      },
      "execution_count": 240,
      "outputs": [
        {
          "output_type": "execute_result",
          "data": {
            "text/plain": [
              "(100, 100, 3)"
            ]
          },
          "metadata": {},
          "execution_count": 240
        }
      ]
    },
    {
      "cell_type": "code",
      "source": [
        "B.shape"
      ],
      "metadata": {
        "colab": {
          "base_uri": "https://localhost:8080/"
        },
        "id": "l3JE93-Nt59x",
        "outputId": "b999ae4e-d424-4ba6-9bb4-dd14f6ca7767"
      },
      "execution_count": 241,
      "outputs": [
        {
          "output_type": "execute_result",
          "data": {
            "text/plain": [
              "(100, 100, 3)"
            ]
          },
          "metadata": {},
          "execution_count": 241
        }
      ]
    },
    {
      "cell_type": "code",
      "source": [
        "S = np.swapaxes(S_, 0, -1)\n",
        "S"
      ],
      "metadata": {
        "colab": {
          "base_uri": "https://localhost:8080/"
        },
        "id": "V9LtpVPit75C",
        "outputId": "e83b5ab4-cdd3-4a6d-8f5b-cc45ff9a59af"
      },
      "execution_count": 244,
      "outputs": [
        {
          "output_type": "execute_result",
          "data": {
            "text/plain": [
              "array([[[ 0.        ,  0.        ,  0.        , ...,  0.        ,\n",
              "          0.        ,  0.        ],\n",
              "        [ 0.        ,  0.        ,  0.        , ...,  0.        ,\n",
              "          0.        ,  0.        ],\n",
              "        [ 0.        ,  0.        ,  0.        , ...,  0.        ,\n",
              "          0.        ,  0.        ],\n",
              "        ...,\n",
              "        [ 0.        ,  0.        ,  0.        , ...,  0.        ,\n",
              "          0.        ,  0.        ],\n",
              "        [ 0.        ,  0.        ,  0.        , ...,  0.        ,\n",
              "          0.        ,  0.        ],\n",
              "        [ 0.        ,  0.        ,  0.        , ...,  0.        ,\n",
              "          0.        ,  0.        ]],\n",
              "\n",
              "       [[-0.        , -0.        , -0.        , ...,  0.        ,\n",
              "          0.        ,  0.        ],\n",
              "        [ 0.        ,  0.        , -0.        , ...,  0.        ,\n",
              "          0.        ,  0.        ],\n",
              "        [ 0.        ,  0.        ,  0.        , ...,  0.        ,\n",
              "          0.        ,  0.        ],\n",
              "        ...,\n",
              "        [-0.        , -0.        , -0.        , ...,  0.        ,\n",
              "          0.        ,  0.        ],\n",
              "        [-0.        , -0.        , -0.        , ...,  0.        ,\n",
              "          0.        ,  0.        ],\n",
              "        [-0.        , -0.        , -0.        , ...,  0.        ,\n",
              "          0.        ,  0.        ]],\n",
              "\n",
              "       [[ 1.        ,  1.03050516,  1.12077989, ...,  1.39879671,\n",
              "          1.62555339,  1.88787691],\n",
              "        [ 1.04807695,  1.00201554,  1.01688248, ...,  1.17829636,\n",
              "          1.3474948 ,  1.5635697 ],\n",
              "        [ 1.18922593,  1.06955062,  1.00805676, ...,  1.04252065,\n",
              "          1.14331478,  1.29929012],\n",
              "        ...,\n",
              "        [ 1.18922593,  1.36221508,  1.58148197, ...,  2.03290773,\n",
              "          2.32841596,  2.63090312],\n",
              "        [ 1.04807695,  1.15319321,  1.31308889, ...,  1.68988705,\n",
              "          1.95966627,  2.25142279],\n",
              "        [ 1.        ,  1.03050516,  1.12077989, ...,  1.39879671,\n",
              "          1.62555339,  1.88787691]]])"
            ]
          },
          "metadata": {},
          "execution_count": 244
        }
      ]
    },
    {
      "cell_type": "code",
      "source": [
        "Sx, Sy, Sz = S"
      ],
      "metadata": {
        "id": "rWTZTJMRvbOQ"
      },
      "execution_count": 245,
      "outputs": []
    },
    {
      "cell_type": "code",
      "source": [
        "Sz"
      ],
      "metadata": {
        "colab": {
          "base_uri": "https://localhost:8080/"
        },
        "id": "Jkb3asuUvkxS",
        "outputId": "3b8e1f8f-a604-4773-803a-7b3e3ec7e437"
      },
      "execution_count": 246,
      "outputs": [
        {
          "output_type": "execute_result",
          "data": {
            "text/plain": [
              "array([[1.        , 1.03050516, 1.12077989, ..., 1.39879671, 1.62555339,\n",
              "        1.88787691],\n",
              "       [1.04807695, 1.00201554, 1.01688248, ..., 1.17829636, 1.3474948 ,\n",
              "        1.5635697 ],\n",
              "       [1.18922593, 1.06955062, 1.00805676, ..., 1.04252065, 1.14331478,\n",
              "        1.29929012],\n",
              "       ...,\n",
              "       [1.18922593, 1.36221508, 1.58148197, ..., 2.03290773, 2.32841596,\n",
              "        2.63090312],\n",
              "       [1.04807695, 1.15319321, 1.31308889, ..., 1.68988705, 1.95966627,\n",
              "        2.25142279],\n",
              "       [1.        , 1.03050516, 1.12077989, ..., 1.39879671, 1.62555339,\n",
              "        1.88787691]])"
            ]
          },
          "metadata": {},
          "execution_count": 246
        }
      ]
    },
    {
      "cell_type": "markdown",
      "source": [
        "#### **Question 4 (tougher)**"
      ],
      "metadata": {
        "id": "LbzinVuQvo3J"
      }
    },
    {
      "cell_type": "markdown",
      "source": [
        "Find the solutions to $(\\frac{d^2}{dx^2} + (10x)^2) f = \\lambda f$ with boundary condition $f(0) = f(1) =0$\n",
        "\n",
        "\n",
        "*   use the eigen method and the fact that $\\frac{d^2f}{dx^2} \\approx \\frac{f_{i+1} + f_{i-1}-2f_i}{\\Delta x^2}$ where $f_i = f(i \\Delta x)$ and $i$ is an integer."
      ],
      "metadata": {
        "id": "TTtBM6uFvvN9"
      }
    },
    {
      "cell_type": "code",
      "source": [
        "N = 1000\n",
        "x = np.linspace(0, 1, N+1)\n",
        "dx = x[1] - x[0]"
      ],
      "metadata": {
        "id": "mozgOkNQvlqb"
      },
      "execution_count": 247,
      "outputs": []
    },
    {
      "cell_type": "code",
      "source": [
        "np.diag(main_diag)"
      ],
      "metadata": {
        "colab": {
          "base_uri": "https://localhost:8080/"
        },
        "id": "8qqVcxUHzwKn",
        "outputId": "5b602bde-3481-4fe2-d82f-ab8ad8e2f997"
      },
      "execution_count": 249,
      "outputs": [
        {
          "output_type": "execute_result",
          "data": {
            "text/plain": [
              "array([[-2.,  0.,  0., ...,  0.,  0.,  0.],\n",
              "       [ 0., -2.,  0., ...,  0.,  0.,  0.],\n",
              "       [ 0.,  0., -2., ...,  0.,  0.,  0.],\n",
              "       ...,\n",
              "       [ 0.,  0.,  0., ..., -2.,  0.,  0.],\n",
              "       [ 0.,  0.,  0., ...,  0., -2.,  0.],\n",
              "       [ 0.,  0.,  0., ...,  0.,  0., -2.]])"
            ]
          },
          "metadata": {},
          "execution_count": 249
        }
      ]
    },
    {
      "cell_type": "code",
      "source": [
        "# 1 means one above the main diagonal\n",
        "np.diag(off_diag, 1)"
      ],
      "metadata": {
        "colab": {
          "base_uri": "https://localhost:8080/"
        },
        "id": "ZmmdIvAHzyay",
        "outputId": "ffc415fe-1f16-4224-9be6-09b494f88641"
      },
      "execution_count": 251,
      "outputs": [
        {
          "output_type": "execute_result",
          "data": {
            "text/plain": [
              "array([[0., 1., 0., ..., 0., 0., 0.],\n",
              "       [0., 0., 1., ..., 0., 0., 0.],\n",
              "       [0., 0., 0., ..., 0., 0., 0.],\n",
              "       ...,\n",
              "       [0., 0., 0., ..., 0., 1., 0.],\n",
              "       [0., 0., 0., ..., 0., 0., 1.],\n",
              "       [0., 0., 0., ..., 0., 0., 0.]])"
            ]
          },
          "metadata": {},
          "execution_count": 251
        }
      ]
    },
    {
      "cell_type": "code",
      "source": [
        "main_diag = -2*np.ones(N-1)\n",
        "off_diag = np.ones(N-2)\n",
        "derivative_matrix = (np.diag(main_diag) + np.diag(off_diag, -1) + np.diag(off_diag, 1))/dx**2\n",
        "# x[1: -1] means that the first and second are left out\n",
        "x2_matrix = np.diag((10*x[1: -1])**2)\n",
        "LHS_matrix = derivative_matrix + x2_matrix\n",
        "LHS_matrix"
      ],
      "metadata": {
        "colab": {
          "base_uri": "https://localhost:8080/"
        },
        "id": "FOQ5Gb1ezeA9",
        "outputId": "045fa629-7329-4cc6-b977-c4d048f4d873"
      },
      "execution_count": 261,
      "outputs": [
        {
          "output_type": "execute_result",
          "data": {
            "text/plain": [
              "array([[-1999999.9999,  1000000.    ,        0.    , ...,        0.    ,\n",
              "               0.    ,        0.    ],\n",
              "       [ 1000000.    , -1999999.9996,  1000000.    , ...,        0.    ,\n",
              "               0.    ,        0.    ],\n",
              "       [       0.    ,  1000000.    , -1999999.9991, ...,        0.    ,\n",
              "               0.    ,        0.    ],\n",
              "       ...,\n",
              "       [       0.    ,        0.    ,        0.    , ..., -1999900.5991,\n",
              "         1000000.    ,        0.    ],\n",
              "       [       0.    ,        0.    ,        0.    , ...,  1000000.    ,\n",
              "        -1999900.3996,  1000000.    ],\n",
              "       [       0.    ,        0.    ,        0.    , ...,        0.    ,\n",
              "         1000000.    , -1999900.1999]])"
            ]
          },
          "metadata": {},
          "execution_count": 261
        }
      ]
    },
    {
      "cell_type": "markdown",
      "source": [
        "\n",
        "\n",
        "```\n",
        "np.linalg.eigh() returns only real-valued eigenvalues and eigenvectors.\n",
        "```\n",
        "\n"
      ],
      "metadata": {
        "id": "-NHhW6G32OPI"
      }
    },
    {
      "cell_type": "code",
      "source": [
        "# to prove\n",
        "w, v = np.linalg.eigh(LHS_matrix)"
      ],
      "metadata": {
        "id": "L80EjL-zz4t-"
      },
      "execution_count": 267,
      "outputs": []
    },
    {
      "cell_type": "code",
      "source": [
        "# eigenvalues in numpy comes in decresing order\n",
        "# so the last element of w is the smallest\n",
        "w[-1]"
      ],
      "metadata": {
        "colab": {
          "base_uri": "https://localhost:8080/"
        },
        "id": "jP0nnj9b1X-Y",
        "outputId": "1e8f07be-03e0-45f8-d6ff-7c2c01e87b07"
      },
      "execution_count": 265,
      "outputs": [
        {
          "output_type": "execute_result",
          "data": {
            "text/plain": [
              "29.855323222437388"
            ]
          },
          "metadata": {},
          "execution_count": 265
        }
      ]
    },
    {
      "cell_type": "code",
      "source": [
        "# all rows and the last element, which responds to the smallest eigenvector\n",
        "plt.plot(v[:, -1], label=\"-1\")\n",
        "plt.plot(v[:, -2], label=\"-2\")\n",
        "plt.plot(v[:, -3], label=\"-3\")\n",
        "plt.plot(v[:, -4], label=\"-4\")\n",
        "plt.legend()"
      ],
      "metadata": {
        "colab": {
          "base_uri": "https://localhost:8080/",
          "height": 282
        },
        "id": "wTqN2AW22Tt_",
        "outputId": "e3b093cc-7515-421e-d83e-d8ee82dd424e"
      },
      "execution_count": 269,
      "outputs": [
        {
          "output_type": "execute_result",
          "data": {
            "text/plain": [
              "<matplotlib.legend.Legend at 0x7f67a29ea820>"
            ]
          },
          "metadata": {},
          "execution_count": 269
        },
        {
          "output_type": "display_data",
          "data": {
            "text/plain": [
              "<Figure size 432x288 with 1 Axes>"
            ],
            "image/png": "[encoded data removed]"
          },
          "metadata": {
            "needs_background": "light"
          }
        }
      ]
    },
    {
      "cell_type": "markdown",
      "source": [
        "$w$ corresponds to $\\lambda$\n",
        "\n",
        "$v$ corresponds to $f$"
      ],
      "metadata": {
        "id": "OQ3w40cE3ee3"
      }
    },
    {
      "cell_type": "markdown",
      "source": [
        "### **Read the Dataset**"
      ],
      "metadata": {
        "id": "Gmx8TVMu3tgK"
      }
    },
    {
      "cell_type": "code",
      "source": [
        "import pandas as pd\n",
        "\n",
        "pddata = pd.read_csv('https://github.com/khinthandarkyaw98/Python_For_Engineers/raw/main/Data/sample.csv')\n",
        "pddata"
      ],
      "metadata": {
        "colab": {
          "base_uri": "https://localhost:8080/",
          "height": 237
        },
        "id": "2ZVo5W8N3JWG",
        "outputId": "129b3b1e-ab04-42a5-fa02-375e9c7d1777"
      },
      "execution_count": 280,
      "outputs": [
        {
          "output_type": "execute_result",
          "data": {
            "text/plain": [
              "   Person  Height\n",
              "0     Jim     172\n",
              "1    Mike     168\n",
              "2     Bob     182\n",
              "3    Susy     156\n",
              "4     Tim     170\n",
              "5  Frank      190"
            ],
            "text/html": [
              "\n",
              "  <div id=\"df-a1af379c-a009-44f8-8d44-ccbbabb665b2\">\n",
              "    <div class=\"colab-df-container\">\n",
              "      <div>\n",
              "<style scoped>\n",
              "    .dataframe tbody tr th:only-of-type {\n",
              "        vertical-align: middle;\n",
              "    }\n",
              "\n",
              "    .dataframe tbody tr th {\n",
              "        vertical-align: top;\n",
              "    }\n",
              "\n",
              "    .dataframe thead th {\n",
              "        text-align: right;\n",
              "    }\n",
              "</style>\n",
              "<table border=\"1\" class=\"dataframe\">\n",
              "  <thead>\n",
              "    <tr style=\"text-align: right;\">\n",
              "      <th></th>\n",
              "      <th>Person</th>\n",
              "      <th>Height</th>\n",
              "    </tr>\n",
              "  </thead>\n",
              "  <tbody>\n",
              "    <tr>\n",
              "      <th>0</th>\n",
              "      <td>Jim</td>\n",
              "      <td>172</td>\n",
              "    </tr>\n",
              "    <tr>\n",
              "      <th>1</th>\n",
              "      <td>Mike</td>\n",
              "      <td>168</td>\n",
              "    </tr>\n",
              "    <tr>\n",
              "      <th>2</th>\n",
              "      <td>Bob</td>\n",
              "      <td>182</td>\n",
              "    </tr>\n",
              "    <tr>\n",
              "      <th>3</th>\n",
              "      <td>Susy</td>\n",
              "      <td>156</td>\n",
              "    </tr>\n",
              "    <tr>\n",
              "      <th>4</th>\n",
              "      <td>Tim</td>\n",
              "      <td>170</td>\n",
              "    </tr>\n",
              "    <tr>\n",
              "      <th>5</th>\n",
              "      <td>Frank</td>\n",
              "      <td>190</td>\n",
              "    </tr>\n",
              "  </tbody>\n",
              "</table>\n",
              "</div>\n",
              "      <button class=\"colab-df-convert\" onclick=\"convertToInteractive('df-a1af379c-a009-44f8-8d44-ccbbabb665b2')\"\n",
              "              title=\"Convert this dataframe to an interactive table.\"\n",
              "              style=\"display:none;\">\n",
              "        \n",
              "  <svg xmlns=\"http://www.w3.org/2000/svg\" height=\"24px\"viewBox=\"0 0 24 24\"\n",
              "       width=\"24px\">\n",
              "    <path d=\"M0 0h24v24H0V0z\" fill=\"none\"/>\n",
              "    <path d=\"M18.56 5.44l.94 2.06.94-2.06 2.06-.94-2.06-.94-.94-2.06-.94 2.06-2.06.94zm-11 1L8.5 8.5l.94-2.06 2.06-.94-2.06-.94L8.5 2.5l-.94 2.06-2.06.94zm10 10l.94 2.06.94-2.06 2.06-.94-2.06-.94-.94-2.06-.94 2.06-2.06.94z\"/><path d=\"M17.41 7.96l-1.37-1.37c-.4-.4-.92-.59-1.43-.59-.52 0-1.04.2-1.43.59L10.3 9.45l-7.72 7.72c-.78.78-.78 2.05 0 2.83L4 21.41c.39.39.9.59 1.41.59.51 0 1.02-.2 1.41-.59l7.78-7.78 2.81-2.81c.8-.78.8-2.07 0-2.86zM5.41 20L4 18.59l7.72-7.72 1.47 1.35L5.41 20z\"/>\n",
              "  </svg>\n",
              "      </button>\n",
              "      \n",
              "  <style>\n",
              "    .colab-df-container {\n",
              "      display:flex;\n",
              "      flex-wrap:wrap;\n",
              "      gap: 12px;\n",
              "    }\n",
              "\n",
              "    .colab-df-convert {\n",
              "      background-color: #E8F0FE;\n",
              "      border: none;\n",
              "      border-radius: 50%;\n",
              "      cursor: pointer;\n",
              "      display: none;\n",
              "      fill: #1967D2;\n",
              "      height: 32px;\n",
              "      padding: 0 0 0 0;\n",
              "      width: 32px;\n",
              "    }\n",
              "\n",
              "    .colab-df-convert:hover {\n",
              "      background-color: #E2EBFA;\n",
              "      box-shadow: 0px 1px 2px rgba(60, 64, 67, 0.3), 0px 1px 3px 1px rgba(60, 64, 67, 0.15);\n",
              "      fill: #174EA6;\n",
              "    }\n",
              "\n",
              "    [theme=dark] .colab-df-convert {\n",
              "      background-color: #3B4455;\n",
              "      fill: #D2E3FC;\n",
              "    }\n",
              "\n",
              "    [theme=dark] .colab-df-convert:hover {\n",
              "      background-color: #434B5C;\n",
              "      box-shadow: 0px 1px 3px 1px rgba(0, 0, 0, 0.15);\n",
              "      filter: drop-shadow(0px 1px 2px rgba(0, 0, 0, 0.3));\n",
              "      fill: #FFFFFF;\n",
              "    }\n",
              "  </style>\n",
              "\n",
              "      <script>\n",
              "        const buttonEl =\n",
              "          document.querySelector('#df-a1af379c-a009-44f8-8d44-ccbbabb665b2 button.colab-df-convert');\n",
              "        buttonEl.style.display =\n",
              "          google.colab.kernel.accessAllowed ? 'block' : 'none';\n",
              "\n",
              "        async function convertToInteractive(key) {\n",
              "          const element = document.querySelector('#df-a1af379c-a009-44f8-8d44-ccbbabb665b2');\n",
              "          const dataTable =\n",
              "            await google.colab.kernel.invokeFunction('convertToInteractive',\n",
              "                                                     [key], {});\n",
              "          if (!dataTable) return;\n",
              "\n",
              "          const docLinkHtml = 'Like what you see? Visit the ' +\n",
              "            '<a target=\"_blank\" href=https://colab.research.google.com/notebooks/data_table.ipynb>data table notebook</a>'\n",
              "            + ' to learn more about interactive tables.';\n",
              "          element.innerHTML = '';\n",
              "          dataTable['output_type'] = 'display_data';\n",
              "          await google.colab.output.renderOutput(dataTable, element);\n",
              "          const docLink = document.createElement('div');\n",
              "          docLink.innerHTML = docLinkHtml;\n",
              "          element.appendChild(docLink);\n",
              "        }\n",
              "      </script>\n",
              "    </div>\n",
              "  </div>\n",
              "  "
            ]
          },
          "metadata": {},
          "execution_count": 280
        }
      ]
    },
    {
      "cell_type": "code",
      "source": [
        "# let's do it with numpy\n",
        "# if we don't define dtype = 'object', errors will more likely to occur\n",
        "data = np.loadtxt('/content/sample.csv', dtype = 'object', delimiter=',')\n",
        "data"
      ],
      "metadata": {
        "colab": {
          "base_uri": "https://localhost:8080/"
        },
        "id": "kxzYb3R14Azs",
        "outputId": "28290bc0-3caa-4c1d-9ca2-c80bcfeadc70"
      },
      "execution_count": 281,
      "outputs": [
        {
          "output_type": "execute_result",
          "data": {
            "text/plain": [
              "array([['Person', 'Height'],\n",
              "       ['Jim', '172'],\n",
              "       ['Mike', '168'],\n",
              "       ['Bob', '182'],\n",
              "       ['Susy', '156'],\n",
              "       ['Tim', '170'],\n",
              "       ['Frank ', '190']], dtype=object)"
            ]
          },
          "metadata": {},
          "execution_count": 281
        }
      ]
    },
    {
      "cell_type": "code",
      "source": [
        "data = np.loadtxt('/content/sample.csv', dtype = 'object', delimiter=',', unpack=True)\n",
        "data"
      ],
      "metadata": {
        "colab": {
          "base_uri": "https://localhost:8080/"
        },
        "id": "5C7jB7nh8L9W",
        "outputId": "097967ae-3e07-45a6-a7f1-00157ee7ef6d"
      },
      "execution_count": 282,
      "outputs": [
        {
          "output_type": "execute_result",
          "data": {
            "text/plain": [
              "array([['Person', 'Jim', 'Mike', 'Bob', 'Susy', 'Tim', 'Frank '],\n",
              "       ['Height', '172', '168', '182', '156', '170', '190']], dtype=object)"
            ]
          },
          "metadata": {},
          "execution_count": 282
        }
      ]
    },
    {
      "cell_type": "code",
      "source": [
        "names, heights = data = np.loadtxt('/content/sample.csv', dtype = 'object', delimiter=',', unpack=True)"
      ],
      "metadata": {
        "id": "kcU-OlNx8lbs"
      },
      "execution_count": 283,
      "outputs": []
    },
    {
      "cell_type": "code",
      "source": [
        "names"
      ],
      "metadata": {
        "colab": {
          "base_uri": "https://localhost:8080/"
        },
        "id": "x0CodyV08qf7",
        "outputId": "16860e84-e5c8-443f-fbe7-3e140cd8d68e"
      },
      "execution_count": 284,
      "outputs": [
        {
          "output_type": "execute_result",
          "data": {
            "text/plain": [
              "array(['Person', 'Jim', 'Mike', 'Bob', 'Susy', 'Tim', 'Frank '],\n",
              "      dtype=object)"
            ]
          },
          "metadata": {},
          "execution_count": 284
        }
      ]
    },
    {
      "cell_type": "code",
      "source": [
        "heights"
      ],
      "metadata": {
        "colab": {
          "base_uri": "https://localhost:8080/"
        },
        "id": "cd0Zc9oa8rcb",
        "outputId": "f3be78bb-704f-4e6a-db65-f0a61eab1fad"
      },
      "execution_count": 285,
      "outputs": [
        {
          "output_type": "execute_result",
          "data": {
            "text/plain": [
              "array(['Height', '172', '168', '182', '156', '170', '190'], dtype=object)"
            ]
          },
          "metadata": {},
          "execution_count": 285
        }
      ]
    },
    {
      "cell_type": "code",
      "source": [
        "# skip the firstrow \n",
        "names, heights = data = np.loadtxt('/content/sample.csv', dtype = 'object', delimiter=',', unpack=True, skiprows = 1)\n",
        "names"
      ],
      "metadata": {
        "colab": {
          "base_uri": "https://localhost:8080/"
        },
        "id": "zFrHzVa_8sNE",
        "outputId": "74c2ac23-51da-4400-e2c0-b6fbf8a4ee5f"
      },
      "execution_count": 286,
      "outputs": [
        {
          "output_type": "execute_result",
          "data": {
            "text/plain": [
              "array(['Jim', 'Mike', 'Bob', 'Susy', 'Tim', 'Frank '], dtype=object)"
            ]
          },
          "metadata": {},
          "execution_count": 286
        }
      ]
    },
    {
      "cell_type": "code",
      "source": [
        "# make names string\n",
        "names = names.astype(str)"
      ],
      "metadata": {
        "id": "HX1H-mk-85Gx"
      },
      "execution_count": 289,
      "outputs": []
    },
    {
      "cell_type": "code",
      "source": [
        "names"
      ],
      "metadata": {
        "colab": {
          "base_uri": "https://localhost:8080/"
        },
        "id": "Bgw08EPD8_ZQ",
        "outputId": "cd214f62-8c8d-434e-9e93-6cfbc778e12f"
      },
      "execution_count": 290,
      "outputs": [
        {
          "output_type": "execute_result",
          "data": {
            "text/plain": [
              "array(['Jim', 'Mike', 'Bob', 'Susy', 'Tim', 'Frank '], dtype='<U6')"
            ]
          },
          "metadata": {},
          "execution_count": 290
        }
      ]
    },
    {
      "cell_type": "code",
      "source": [
        "# make heights float\n",
        "heights = heights.astype(float)"
      ],
      "metadata": {
        "id": "_QxBt_ql8_5C"
      },
      "execution_count": 291,
      "outputs": []
    },
    {
      "cell_type": "code",
      "source": [
        "heights"
      ],
      "metadata": {
        "colab": {
          "base_uri": "https://localhost:8080/"
        },
        "id": "XufGz9F99JNJ",
        "outputId": "4db14d1c-49a6-4e4d-dd48-3e378f9b92cb"
      },
      "execution_count": 292,
      "outputs": [
        {
          "output_type": "execute_result",
          "data": {
            "text/plain": [
              "array([172., 168., 182., 156., 170., 190.])"
            ]
          },
          "metadata": {},
          "execution_count": 292
        }
      ]
    },
    {
      "cell_type": "markdown",
      "source": [
        "**Yahoo!!!! Numpy Tutorial for this notebook ENDs Here!**"
      ],
      "metadata": {
        "id": "27KeNMxT9aLx"
      }
    }
  ]
}