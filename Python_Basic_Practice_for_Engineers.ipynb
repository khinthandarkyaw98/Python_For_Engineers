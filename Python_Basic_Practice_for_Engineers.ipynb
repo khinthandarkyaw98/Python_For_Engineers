{
  "nbformat": 4,
  "nbformat_minor": 0,
  "metadata": {
    "colab": {
      "provenance": [],
      "toc_visible": true,
      "authorship_tag": "ABX9TyN9FTYAvJqtNzNTVQlBo3cs",
      "include_colab_link": true
    },
    "kernelspec": {
      "name": "python3",
      "display_name": "Python 3"
    },
    "language_info": {
      "name": "python"
    }
  },
  "cells": [
    {
      "cell_type": "markdown",
      "metadata": {
        "id": "view-in-github",
        "colab_type": "text"
      },
      "source": [
        "<a href=\"https://colab.research.google.com/github/khinthandarkyaw98/Python_For_Engineers/blob/main/Python_Basic_Practice_for_Engineers.ipynb\" target=\"_parent\"><img src=\"https://colab.research.google.com/assets/colab-badge.svg\" alt=\"Open In Colab\"/></a>"
      ]
    },
    {
      "cell_type": "markdown",
      "source": [
        "# **Disclaimer**\n",
        "\n",
        "This notebook is  just a practice and review notebook for myself after watching [Mr. P Solver](https://www.youtube.com/@MrPSolver) channel on YouTube."
      ],
      "metadata": {
        "id": "ktUu2AkBnFV5"
      }
    },
    {
      "cell_type": "markdown",
      "source": [
        "Coder : Coral\n",
        "\n",
        "Time :  17 March 2023"
      ],
      "metadata": {
        "id": "sf6BMhon8Xt0"
      }
    },
    {
      "cell_type": "markdown",
      "source": [
        "# **Basics of Python**"
      ],
      "metadata": {
        "id": "Yzv7-D1Unqqn"
      }
    },
    {
      "cell_type": "markdown",
      "source": [
        "## **Introduction**"
      ],
      "metadata": {
        "id": "E1YCnNrGnyG4"
      }
    },
    {
      "cell_type": "markdown",
      "source": [
        "The author recommends to use the **Anaconda** but I use Google's Colabotoray."
      ],
      "metadata": {
        "id": "7Y-kkyTgoEBr"
      }
    },
    {
      "cell_type": "markdown",
      "source": [
        "### **Plugging in numerical Expressions**"
      ],
      "metadata": {
        "id": "ZMob-aCPoiAJ"
      }
    },
    {
      "cell_type": "code",
      "source": [
        "4 * 4"
      ],
      "metadata": {
        "colab": {
          "base_uri": "https://localhost:8080/"
        },
        "id": "NvW5QSRNoT4e",
        "outputId": "7698fb3c-287a-49d5-9813-20b1aab8cea6"
      },
      "execution_count": 142,
      "outputs": [
        {
          "output_type": "execute_result",
          "data": {
            "text/plain": [
              "16"
            ]
          },
          "metadata": {},
          "execution_count": 142
        }
      ]
    },
    {
      "cell_type": "code",
      "execution_count": 143,
      "metadata": {
        "id": "djL_yGddknYU",
        "colab": {
          "base_uri": "https://localhost:8080/"
        },
        "outputId": "e57b7f1e-a56c-4c7d-ab8c-d749f2fd0996"
      },
      "outputs": [
        {
          "output_type": "execute_result",
          "data": {
            "text/plain": [
              "3"
            ]
          },
          "metadata": {},
          "execution_count": 143
        }
      ],
      "source": [
        "16//5"
      ]
    },
    {
      "cell_type": "code",
      "source": [
        "# return a remainder\n",
        "17%5 "
      ],
      "metadata": {
        "colab": {
          "base_uri": "https://localhost:8080/"
        },
        "id": "lJt_Nzrpo3LD",
        "outputId": "3e508fea-54a2-4ed3-f9fe-eb20b067d43b"
      },
      "execution_count": 144,
      "outputs": [
        {
          "output_type": "execute_result",
          "data": {
            "text/plain": [
              "2"
            ]
          },
          "metadata": {},
          "execution_count": 144
        }
      ]
    },
    {
      "cell_type": "markdown",
      "source": [
        "### **Variables**"
      ],
      "metadata": {
        "id": "muzGCyqDpFQA"
      }
    },
    {
      "cell_type": "code",
      "source": [
        "x = 10\n",
        "print(x)"
      ],
      "metadata": {
        "colab": {
          "base_uri": "https://localhost:8080/"
        },
        "id": "HmP5ecZGpJa_",
        "outputId": "c3d22072-aec2-4079-9a94-747b05e531b0"
      },
      "execution_count": 145,
      "outputs": [
        {
          "output_type": "stream",
          "name": "stdout",
          "text": [
            "10\n"
          ]
        }
      ]
    },
    {
      "cell_type": "code",
      "source": [
        "x = \"ca{}t\".format(\"s\")\n",
        "print(x)"
      ],
      "metadata": {
        "colab": {
          "base_uri": "https://localhost:8080/"
        },
        "id": "wReaik4hpLxG",
        "outputId": "510649fa-16dc-416f-bcdb-21d6f0450721"
      },
      "execution_count": 146,
      "outputs": [
        {
          "output_type": "stream",
          "name": "stdout",
          "text": [
            "cast\n"
          ]
        }
      ]
    },
    {
      "cell_type": "code",
      "source": [
        "age = 25.2423535\n",
        "x = \"I am {:.0f} year old\".format(age)\n",
        "print(x)"
      ],
      "metadata": {
        "colab": {
          "base_uri": "https://localhost:8080/"
        },
        "id": "xZq7fOiHp1rU",
        "outputId": "0bfd1879-c71a-433d-87ae-4bf4acde8ffe"
      },
      "execution_count": 147,
      "outputs": [
        {
          "output_type": "stream",
          "name": "stdout",
          "text": [
            "I am 25 year old\n"
          ]
        }
      ]
    },
    {
      "cell_type": "markdown",
      "source": [
        "### **Lists, Tuples, Dictionaries, Arrays**"
      ],
      "metadata": {
        "id": "N3EeK6XprjF5"
      }
    },
    {
      "cell_type": "markdown",
      "source": [
        "#### **List**"
      ],
      "metadata": {
        "id": "P1ciUO8WnBti"
      }
    },
    {
      "cell_type": "code",
      "source": [
        "x = [1, 3, 5, 6, 'cat', [1, 2]]\n",
        "a = ['dog']\n",
        "\n",
        "print(x[1])\n",
        "print(x)\n",
        "\n",
        "x.append(5)\n",
        "print(x)\n",
        "\n",
        "print(x + a)"
      ],
      "metadata": {
        "colab": {
          "base_uri": "https://localhost:8080/"
        },
        "id": "6jrYuGKJr06O",
        "outputId": "8775f581-883e-45ba-8e86-fb4c9d218993"
      },
      "execution_count": 148,
      "outputs": [
        {
          "output_type": "stream",
          "name": "stdout",
          "text": [
            "3\n",
            "[1, 3, 5, 6, 'cat', [1, 2]]\n",
            "[1, 3, 5, 6, 'cat', [1, 2], 5]\n",
            "[1, 3, 5, 6, 'cat', [1, 2], 5, 'dog']\n"
          ]
        }
      ]
    },
    {
      "cell_type": "code",
      "source": [
        "print(x[5])"
      ],
      "metadata": {
        "colab": {
          "base_uri": "https://localhost:8080/"
        },
        "id": "D8-B1hC_r_Tf",
        "outputId": "c6e59d18-902a-4794-bd58-3947ad79af96"
      },
      "execution_count": 149,
      "outputs": [
        {
          "output_type": "stream",
          "name": "stdout",
          "text": [
            "[1, 2]\n"
          ]
        }
      ]
    },
    {
      "cell_type": "code",
      "source": [
        "print(x[5][1])"
      ],
      "metadata": {
        "colab": {
          "base_uri": "https://localhost:8080/"
        },
        "id": "MAkkCZRcsCSy",
        "outputId": "0c38aad3-83f9-454c-a327-4f25bd0eef57"
      },
      "execution_count": 150,
      "outputs": [
        {
          "output_type": "stream",
          "name": "stdout",
          "text": [
            "2\n"
          ]
        }
      ]
    },
    {
      "cell_type": "markdown",
      "source": [
        "#### **Tuple**"
      ],
      "metadata": {
        "id": "2_SYdSc0r0p2"
      }
    },
    {
      "cell_type": "code",
      "source": [
        "y = (1, 2, 3, 'pete', [1, 2])\n",
        "\n",
        "print(y)"
      ],
      "metadata": {
        "colab": {
          "base_uri": "https://localhost:8080/"
        },
        "id": "5SSigeiPsI-j",
        "outputId": "7966f30a-7453-4735-ba14-ce07b52b5ceb"
      },
      "execution_count": 151,
      "outputs": [
        {
          "output_type": "stream",
          "name": "stdout",
          "text": [
            "(1, 2, 3, 'pete', [1, 2])\n"
          ]
        }
      ]
    },
    {
      "cell_type": "markdown",
      "source": [
        "**Difference between List and Tuple**\n",
        "\n",
        "Tuple is immutable"
      ],
      "metadata": {
        "id": "HuPAmpP3sT8X"
      }
    },
    {
      "cell_type": "code",
      "source": [
        "x[0] = 3\n",
        "print(x)"
      ],
      "metadata": {
        "colab": {
          "base_uri": "https://localhost:8080/"
        },
        "id": "zWts-cNJsbd9",
        "outputId": "ed553e5c-cf24-44be-c0df-71a600e95e4d"
      },
      "execution_count": 152,
      "outputs": [
        {
          "output_type": "stream",
          "name": "stdout",
          "text": [
            "[3, 3, 5, 6, 'cat', [1, 2], 5]\n"
          ]
        }
      ]
    },
    {
      "cell_type": "code",
      "source": [
        "y[0] = 3\n",
        "print(y)"
      ],
      "metadata": {
        "colab": {
          "base_uri": "https://localhost:8080/",
          "height": 190
        },
        "id": "VurcK-m0slB9",
        "outputId": "e81b4f3b-1850-49a1-867c-4604292f4c22"
      },
      "execution_count": 153,
      "outputs": [
        {
          "output_type": "error",
          "ename": "TypeError",
          "evalue": "ignored",
          "traceback": [
            "\u001b[0;31m---------------------------------------------------------------------------\u001b[0m",
            "\u001b[0;31mTypeError\u001b[0m                                 Traceback (most recent call last)",
            "\u001b[0;32m<ipython-input-153-33e935c9bbb0>\u001b[0m in \u001b[0;36m<module>\u001b[0;34m\u001b[0m\n\u001b[0;32m----> 1\u001b[0;31m \u001b[0my\u001b[0m\u001b[0;34m[\u001b[0m\u001b[0;36m0\u001b[0m\u001b[0;34m]\u001b[0m \u001b[0;34m=\u001b[0m \u001b[0;36m3\u001b[0m\u001b[0;34m\u001b[0m\u001b[0;34m\u001b[0m\u001b[0m\n\u001b[0m\u001b[1;32m      2\u001b[0m \u001b[0mprint\u001b[0m\u001b[0;34m(\u001b[0m\u001b[0my\u001b[0m\u001b[0;34m)\u001b[0m\u001b[0;34m\u001b[0m\u001b[0;34m\u001b[0m\u001b[0m\n",
            "\u001b[0;31mTypeError\u001b[0m: 'tuple' object does not support item assignment"
          ]
        }
      ]
    },
    {
      "cell_type": "markdown",
      "source": [
        "#### **Dictionary**"
      ],
      "metadata": {
        "id": "1J9jbcrdnBA2"
      }
    },
    {
      "cell_type": "code",
      "source": [
        "d = {\"cat\": \"feline\", \n",
        "       \"dog\": 4}\n",
        "\n",
        "print(d[\"cat\"])"
      ],
      "metadata": {
        "colab": {
          "base_uri": "https://localhost:8080/"
        },
        "id": "hAcAY_3utDS_",
        "outputId": "9dd0b0b6-289b-4d81-dc64-c1658ec3ca1b"
      },
      "execution_count": 154,
      "outputs": [
        {
          "output_type": "stream",
          "name": "stdout",
          "text": [
            "feline\n"
          ]
        }
      ]
    },
    {
      "cell_type": "markdown",
      "source": [
        "#### **Array**"
      ],
      "metadata": {
        "id": "QQM-MG5KtXQc"
      }
    },
    {
      "cell_type": "markdown",
      "source": [
        "We will the numpy for better convenice."
      ],
      "metadata": {
        "id": "syzD8p1Zte3Q"
      }
    },
    {
      "cell_type": "code",
      "source": [
        "import numpy as np"
      ],
      "metadata": {
        "id": "jGwR6okwtd-L"
      },
      "execution_count": 155,
      "outputs": []
    },
    {
      "cell_type": "code",
      "source": [
        "print(np)"
      ],
      "metadata": {
        "colab": {
          "base_uri": "https://localhost:8080/"
        },
        "id": "T0X86LlltQYE",
        "outputId": "4f85ac01-418c-4682-9022-e6f1764ab6f0"
      },
      "execution_count": 156,
      "outputs": [
        {
          "output_type": "stream",
          "name": "stdout",
          "text": [
            "<module 'numpy' from '/usr/local/lib/python3.9/dist-packages/numpy/__init__.py'>\n"
          ]
        }
      ]
    },
    {
      "cell_type": "code",
      "source": [
        "np_x = np.array([1, 5, 8, 7])\n",
        "print(np_x)\n",
        "print(np_x * 2)\n",
        "print(np_x /2)"
      ],
      "metadata": {
        "colab": {
          "base_uri": "https://localhost:8080/"
        },
        "id": "RdARn0vWtqih",
        "outputId": "d34879a9-ac03-4118-a97a-664fbfc7244f"
      },
      "execution_count": 157,
      "outputs": [
        {
          "output_type": "stream",
          "name": "stdout",
          "text": [
            "[1 5 8 7]\n",
            "[ 2 10 16 14]\n",
            "[0.5 2.5 4.  3.5]\n"
          ]
        }
      ]
    },
    {
      "cell_type": "markdown",
      "source": [
        "The differnce between the list and array is that the array can handle the element-wise operation."
      ],
      "metadata": {
        "id": "kEqZ2FYMuSY5"
      }
    },
    {
      "cell_type": "code",
      "source": [
        "print(x)\n",
        "print(2 * x)"
      ],
      "metadata": {
        "colab": {
          "base_uri": "https://localhost:8080/"
        },
        "id": "DYApZ-u6uA7w",
        "outputId": "93f07e72-30f9-461f-df84-50eea911fcbf"
      },
      "execution_count": 158,
      "outputs": [
        {
          "output_type": "stream",
          "name": "stdout",
          "text": [
            "[3, 3, 5, 6, 'cat', [1, 2], 5]\n",
            "[3, 3, 5, 6, 'cat', [1, 2], 5, 3, 3, 5, 6, 'cat', [1, 2], 5]\n"
          ]
        }
      ]
    },
    {
      "cell_type": "code",
      "source": [
        "# from 0 to 20 with 100 elements\n",
        "np_x = np.linspace(0, 20, 100) \n",
        "print(np_x)"
      ],
      "metadata": {
        "colab": {
          "base_uri": "https://localhost:8080/"
        },
        "id": "VayMmVOatuAJ",
        "outputId": "734c4a4c-154f-4fff-f194-d5acde3c5df9"
      },
      "execution_count": 159,
      "outputs": [
        {
          "output_type": "stream",
          "name": "stdout",
          "text": [
            "[ 0.          0.2020202   0.4040404   0.60606061  0.80808081  1.01010101\n",
            "  1.21212121  1.41414141  1.61616162  1.81818182  2.02020202  2.22222222\n",
            "  2.42424242  2.62626263  2.82828283  3.03030303  3.23232323  3.43434343\n",
            "  3.63636364  3.83838384  4.04040404  4.24242424  4.44444444  4.64646465\n",
            "  4.84848485  5.05050505  5.25252525  5.45454545  5.65656566  5.85858586\n",
            "  6.06060606  6.26262626  6.46464646  6.66666667  6.86868687  7.07070707\n",
            "  7.27272727  7.47474747  7.67676768  7.87878788  8.08080808  8.28282828\n",
            "  8.48484848  8.68686869  8.88888889  9.09090909  9.29292929  9.49494949\n",
            "  9.6969697   9.8989899  10.1010101  10.3030303  10.50505051 10.70707071\n",
            " 10.90909091 11.11111111 11.31313131 11.51515152 11.71717172 11.91919192\n",
            " 12.12121212 12.32323232 12.52525253 12.72727273 12.92929293 13.13131313\n",
            " 13.33333333 13.53535354 13.73737374 13.93939394 14.14141414 14.34343434\n",
            " 14.54545455 14.74747475 14.94949495 15.15151515 15.35353535 15.55555556\n",
            " 15.75757576 15.95959596 16.16161616 16.36363636 16.56565657 16.76767677\n",
            " 16.96969697 17.17171717 17.37373737 17.57575758 17.77777778 17.97979798\n",
            " 18.18181818 18.38383838 18.58585859 18.78787879 18.98989899 19.19191919\n",
            " 19.39393939 19.5959596  19.7979798  20.        ]\n"
          ]
        }
      ]
    },
    {
      "cell_type": "code",
      "source": [
        "# from 0 to 20 with 2 steps for each element\n",
        "np_x = np.arange(0, 20, 2)\n",
        "print(np_x)"
      ],
      "metadata": {
        "colab": {
          "base_uri": "https://localhost:8080/"
        },
        "id": "wpIKEs_sukeD",
        "outputId": "b089032a-c4a7-4855-c614-0e5af6d6f71f"
      },
      "execution_count": 160,
      "outputs": [
        {
          "output_type": "stream",
          "name": "stdout",
          "text": [
            "[ 0  2  4  6  8 10 12 14 16 18]\n"
          ]
        }
      ]
    },
    {
      "cell_type": "code",
      "source": [
        "print(np_x ** 2)"
      ],
      "metadata": {
        "colab": {
          "base_uri": "https://localhost:8080/"
        },
        "id": "z7RC_ehzurd0",
        "outputId": "87ee49f9-4ae2-40fc-a59f-0e5b057677f4"
      },
      "execution_count": 161,
      "outputs": [
        {
          "output_type": "stream",
          "name": "stdout",
          "text": [
            "[  0   4  16  36  64 100 144 196 256 324]\n"
          ]
        }
      ]
    },
    {
      "cell_type": "markdown",
      "source": [
        "### **Plotting**"
      ],
      "metadata": {
        "id": "pwK6m744vFl3"
      }
    },
    {
      "cell_type": "code",
      "source": [
        "import matplotlib.pyplot as plt"
      ],
      "metadata": {
        "id": "kml4OAzAvD5q"
      },
      "execution_count": 162,
      "outputs": []
    },
    {
      "cell_type": "code",
      "source": [
        "x = np.linspace(0, 1, 100) # from 0 to 1 with 100 elements\n",
        "y = x**2"
      ],
      "metadata": {
        "id": "JJuyxdRevL9P"
      },
      "execution_count": 163,
      "outputs": []
    },
    {
      "cell_type": "code",
      "source": [
        "plt.plot(x, y)  # result is a parabola "
      ],
      "metadata": {
        "colab": {
          "base_uri": "https://localhost:8080/",
          "height": 282
        },
        "id": "K5bH_X0XvUZw",
        "outputId": "80b94939-34b8-4c5a-ba40-c3e96a630470"
      },
      "execution_count": 164,
      "outputs": [
        {
          "output_type": "execute_result",
          "data": {
            "text/plain": [
              "[<matplotlib.lines.Line2D at 0x7f924cce1400>]"
            ]
          },
          "metadata": {},
          "execution_count": 164
        },
        {
          "output_type": "display_data",
          "data": {
            "text/plain": [
              "<Figure size 432x288 with 1 Axes>"
            ],
            "image/png": "[encoded data removed]"
          },
          "metadata": {
            "needs_background": "light"
          }
        }
      ]
    },
    {
      "cell_type": "code",
      "source": [
        "plt.plot(x, y, 'r--') # plot with red color with dotted line\n",
        "plt.xlabel('x', fontsize = 15)\n",
        "plt.ylabel('y', fontsize = 15)"
      ],
      "metadata": {
        "colab": {
          "base_uri": "https://localhost:8080/",
          "height": 301
        },
        "id": "gqakcMRivXbl",
        "outputId": "8abdc021-e1fc-4193-970a-2d0cd5ef505d"
      },
      "execution_count": 165,
      "outputs": [
        {
          "output_type": "execute_result",
          "data": {
            "text/plain": [
              "Text(0, 0.5, 'y')"
            ]
          },
          "metadata": {},
          "execution_count": 165
        },
        {
          "output_type": "display_data",
          "data": {
            "text/plain": [
              "<Figure size 432x288 with 1 Axes>"
            ],
            "image/png": "[encoded data removed]"
          },
          "metadata": {
            "needs_background": "light"
          }
        }
      ]
    },
    {
      "cell_type": "markdown",
      "source": [
        "### **forloops**"
      ],
      "metadata": {
        "id": "6bCkqCjEwylP"
      }
    },
    {
      "cell_type": "markdown",
      "source": [
        "#### **1.Regular Loop**"
      ],
      "metadata": {
        "id": "ynAWjKGlw7P1"
      }
    },
    {
      "cell_type": "code",
      "source": [
        "for i in range(5):\n",
        "  print(i)"
      ],
      "metadata": {
        "colab": {
          "base_uri": "https://localhost:8080/"
        },
        "id": "jaROn-w1xRaJ",
        "outputId": "c9ab6a88-4f21-48e9-93f4-e0844e990bd7"
      },
      "execution_count": 166,
      "outputs": [
        {
          "output_type": "stream",
          "name": "stdout",
          "text": [
            "0\n",
            "1\n",
            "2\n",
            "3\n",
            "4\n"
          ]
        }
      ]
    },
    {
      "cell_type": "code",
      "source": [
        "lst = []\n",
        "for i in range(21):\n",
        "  lst.append(i**3) # result is cube\n",
        "print(lst)"
      ],
      "metadata": {
        "colab": {
          "base_uri": "https://localhost:8080/"
        },
        "id": "OLM4ZnUUxebR",
        "outputId": "7eddae77-36b6-4c11-a8fa-27b1adf6ced0"
      },
      "execution_count": 167,
      "outputs": [
        {
          "output_type": "stream",
          "name": "stdout",
          "text": [
            "[0, 1, 8, 27, 64, 125, 216, 343, 512, 729, 1000, 1331, 1728, 2197, 2744, 3375, 4096, 4913, 5832, 6859, 8000]\n"
          ]
        }
      ]
    },
    {
      "cell_type": "markdown",
      "source": [
        "#### **2. List Loop**"
      ],
      "metadata": {
        "id": "SA688cMuw_xc"
      }
    },
    {
      "cell_type": "code",
      "source": [
        "lst = [\"fog\", \"cat\", \"horse\"]\n",
        "for item in lst:\n",
        "  print(item)"
      ],
      "metadata": {
        "colab": {
          "base_uri": "https://localhost:8080/"
        },
        "id": "SRe0ZnM7xrw_",
        "outputId": "330e53af-7c8b-4b77-d3a4-20b88bef6c52"
      },
      "execution_count": 168,
      "outputs": [
        {
          "output_type": "stream",
          "name": "stdout",
          "text": [
            "fog\n",
            "cat\n",
            "horse\n"
          ]
        }
      ]
    },
    {
      "cell_type": "markdown",
      "source": [
        "#### **3. Enumeration Loop**"
      ],
      "metadata": {
        "id": "goi7cvVuxEOY"
      }
    },
    {
      "cell_type": "markdown",
      "source": [
        "Combination of Regular Loop and List Loop"
      ],
      "metadata": {
        "id": "7qIJzq8Rx3VQ"
      }
    },
    {
      "cell_type": "code",
      "source": [
        "lst = [\"fog\", \"cat\", \"horse\"]\n",
        "for i, item in enumerate(lst): # get index and its value\n",
        "  print(\"Index {} contains {}\".format(i, item))"
      ],
      "metadata": {
        "colab": {
          "base_uri": "https://localhost:8080/"
        },
        "id": "NDLKoD1Bx1UA",
        "outputId": "e2819112-9529-4e77-a0a4-565d41339171"
      },
      "execution_count": 169,
      "outputs": [
        {
          "output_type": "stream",
          "name": "stdout",
          "text": [
            "Index 0 contains fog\n",
            "Index 1 contains cat\n",
            "Index 2 contains horse\n"
          ]
        }
      ]
    },
    {
      "cell_type": "markdown",
      "source": [
        "#### **4. List Comprehension Loop**"
      ],
      "metadata": {
        "id": "SEr7gOwfxIwD"
      }
    },
    {
      "cell_type": "markdown",
      "source": [
        "Shortened form of the regular loop"
      ],
      "metadata": {
        "id": "cgh1BwnQyXba"
      }
    },
    {
      "cell_type": "code",
      "source": [
        "lst = [i**3 for i in range(21)]\n",
        "print(lst)"
      ],
      "metadata": {
        "colab": {
          "base_uri": "https://localhost:8080/"
        },
        "id": "mOh_NbbYvkS-",
        "outputId": "df291132-ed36-4b44-cd68-34e364a8f1d4"
      },
      "execution_count": 170,
      "outputs": [
        {
          "output_type": "stream",
          "name": "stdout",
          "text": [
            "[0, 1, 8, 27, 64, 125, 216, 343, 512, 729, 1000, 1331, 1728, 2197, 2744, 3375, 4096, 4913, 5832, 6859, 8000]\n"
          ]
        }
      ]
    },
    {
      "cell_type": "markdown",
      "source": [
        "#### **5. Double forloop**"
      ],
      "metadata": {
        "id": "NQwLf7hBybzu"
      }
    },
    {
      "cell_type": "code",
      "source": [
        "for i in range(5):        # loop i\n",
        "  for j in range(5):      # loop j through i\n",
        "    print(\"i ={} j={}\".format(i, j))\n",
        "  print()"
      ],
      "metadata": {
        "colab": {
          "base_uri": "https://localhost:8080/"
        },
        "id": "v3Ko5qTkyVBe",
        "outputId": "e53dd91c-3c61-4a49-e60e-2b575bd5eef2"
      },
      "execution_count": 171,
      "outputs": [
        {
          "output_type": "stream",
          "name": "stdout",
          "text": [
            "i =0 j=0\n",
            "i =0 j=1\n",
            "i =0 j=2\n",
            "i =0 j=3\n",
            "i =0 j=4\n",
            "\n",
            "i =1 j=0\n",
            "i =1 j=1\n",
            "i =1 j=2\n",
            "i =1 j=3\n",
            "i =1 j=4\n",
            "\n",
            "i =2 j=0\n",
            "i =2 j=1\n",
            "i =2 j=2\n",
            "i =2 j=3\n",
            "i =2 j=4\n",
            "\n",
            "i =3 j=0\n",
            "i =3 j=1\n",
            "i =3 j=2\n",
            "i =3 j=3\n",
            "i =3 j=4\n",
            "\n",
            "i =4 j=0\n",
            "i =4 j=1\n",
            "i =4 j=2\n",
            "i =4 j=3\n",
            "i =4 j=4\n",
            "\n"
          ]
        }
      ]
    },
    {
      "cell_type": "markdown",
      "source": [
        "### **booleans and if statements**"
      ],
      "metadata": {
        "id": "KhVVgE-VzBvQ"
      }
    },
    {
      "cell_type": "code",
      "source": [
        "a = True\n",
        "b = False"
      ],
      "metadata": {
        "id": "Wp1ptDPHy01-"
      },
      "execution_count": 172,
      "outputs": []
    },
    {
      "cell_type": "markdown",
      "source": [
        "With **booleans**, **logic opeartions** can be performed."
      ],
      "metadata": {
        "id": "4b6L0atazOKj"
      }
    },
    {
      "cell_type": "code",
      "source": [
        "a or b"
      ],
      "metadata": {
        "colab": {
          "base_uri": "https://localhost:8080/"
        },
        "id": "hTt5qnRAzLP6",
        "outputId": "992cf972-d555-4670-9e69-c81c8bcae9dc"
      },
      "execution_count": 173,
      "outputs": [
        {
          "output_type": "execute_result",
          "data": {
            "text/plain": [
              "True"
            ]
          },
          "metadata": {},
          "execution_count": 173
        }
      ]
    },
    {
      "cell_type": "code",
      "source": [
        "a and b"
      ],
      "metadata": {
        "colab": {
          "base_uri": "https://localhost:8080/"
        },
        "id": "6P4K8uQWzVov",
        "outputId": "f70a1525-14ed-4c17-c7e5-cc95d9cdc3fa"
      },
      "execution_count": 174,
      "outputs": [
        {
          "output_type": "execute_result",
          "data": {
            "text/plain": [
              "False"
            ]
          },
          "metadata": {},
          "execution_count": 174
        }
      ]
    },
    {
      "cell_type": "code",
      "source": [
        "not(b)"
      ],
      "metadata": {
        "colab": {
          "base_uri": "https://localhost:8080/"
        },
        "id": "eIZPV283zW6W",
        "outputId": "796bb77f-db74-4b54-85bf-96d978a7a476"
      },
      "execution_count": 175,
      "outputs": [
        {
          "output_type": "execute_result",
          "data": {
            "text/plain": [
              "True"
            ]
          },
          "metadata": {},
          "execution_count": 175
        }
      ]
    },
    {
      "cell_type": "code",
      "source": [
        "a and not(b)"
      ],
      "metadata": {
        "colab": {
          "base_uri": "https://localhost:8080/"
        },
        "id": "2VUX-_3qzY3W",
        "outputId": "a2961002-c1cb-405d-e0df-e42b8eee08c4"
      },
      "execution_count": 176,
      "outputs": [
        {
          "output_type": "execute_result",
          "data": {
            "text/plain": [
              "True"
            ]
          },
          "metadata": {},
          "execution_count": 176
        }
      ]
    },
    {
      "cell_type": "code",
      "source": [
        "if a:\n",
        "  print(\"yes\")"
      ],
      "metadata": {
        "colab": {
          "base_uri": "https://localhost:8080/"
        },
        "id": "tSbUcenrzaeO",
        "outputId": "78c71a42-d24a-4931-eb03-bb043641c9c2"
      },
      "execution_count": 177,
      "outputs": [
        {
          "output_type": "stream",
          "name": "stdout",
          "text": [
            "yes\n"
          ]
        }
      ]
    },
    {
      "cell_type": "code",
      "source": [
        "if a or b:\n",
        "  print(\"yes\")"
      ],
      "metadata": {
        "colab": {
          "base_uri": "https://localhost:8080/"
        },
        "id": "m86M7MgOzdlq",
        "outputId": "564a3e85-f67d-49f6-e171-090e03603527"
      },
      "execution_count": 178,
      "outputs": [
        {
          "output_type": "stream",
          "name": "stdout",
          "text": [
            "yes\n"
          ]
        }
      ]
    },
    {
      "cell_type": "code",
      "source": [
        "c = a and b\n",
        "if c:\n",
        "  print(\"yes\")"
      ],
      "metadata": {
        "id": "E-0ctXItzkGo"
      },
      "execution_count": 179,
      "outputs": []
    },
    {
      "cell_type": "code",
      "source": [
        "i = 0"
      ],
      "metadata": {
        "id": "LC8fGCm-zoPF"
      },
      "execution_count": 180,
      "outputs": []
    },
    {
      "cell_type": "code",
      "source": [
        "i == 0"
      ],
      "metadata": {
        "colab": {
          "base_uri": "https://localhost:8080/"
        },
        "id": "upLFQOWPzt4h",
        "outputId": "4b13a143-5a7b-486a-8eed-785f4bf2ff23"
      },
      "execution_count": 181,
      "outputs": [
        {
          "output_type": "execute_result",
          "data": {
            "text/plain": [
              "True"
            ]
          },
          "metadata": {},
          "execution_count": 181
        }
      ]
    },
    {
      "cell_type": "code",
      "source": [
        "a = i ==1"
      ],
      "metadata": {
        "id": "YVY4x0jmzuxD"
      },
      "execution_count": 182,
      "outputs": []
    },
    {
      "cell_type": "code",
      "source": [
        "print(a)"
      ],
      "metadata": {
        "colab": {
          "base_uri": "https://localhost:8080/"
        },
        "id": "2TfYA-ZPzyBc",
        "outputId": "ad18dd62-5cd6-479f-954c-82afe9468fb3"
      },
      "execution_count": 183,
      "outputs": [
        {
          "output_type": "stream",
          "name": "stdout",
          "text": [
            "False\n"
          ]
        }
      ]
    },
    {
      "cell_type": "code",
      "source": [
        "if i == 0:\n",
        "  print(\"yes\")"
      ],
      "metadata": {
        "colab": {
          "base_uri": "https://localhost:8080/"
        },
        "id": "fbrOBR_BzzMg",
        "outputId": "7149af8d-9bea-408f-aa9f-6ae88cf2a6e3"
      },
      "execution_count": 184,
      "outputs": [
        {
          "output_type": "stream",
          "name": "stdout",
          "text": [
            "yes\n"
          ]
        }
      ]
    },
    {
      "cell_type": "code",
      "source": [
        "if i != 1:\n",
        "  print(\"yes\")"
      ],
      "metadata": {
        "colab": {
          "base_uri": "https://localhost:8080/"
        },
        "id": "c4rJHDBGz3U-",
        "outputId": "721eb215-e122-4774-eb73-39393231fc21"
      },
      "execution_count": 185,
      "outputs": [
        {
          "output_type": "stream",
          "name": "stdout",
          "text": [
            "yes\n"
          ]
        }
      ]
    },
    {
      "cell_type": "code",
      "source": [
        "i = 1\n",
        "j = 0\n",
        "\n",
        "if i != 1 or j == 0:\n",
        "  print(\"yes\")"
      ],
      "metadata": {
        "colab": {
          "base_uri": "https://localhost:8080/"
        },
        "id": "lAG4KvGwz6S9",
        "outputId": "3bcfb1c9-aee1-4af9-98c1-90a13ba97110"
      },
      "execution_count": 186,
      "outputs": [
        {
          "output_type": "stream",
          "name": "stdout",
          "text": [
            "yes\n"
          ]
        }
      ]
    },
    {
      "cell_type": "markdown",
      "source": [
        "#### **Sub-strings**"
      ],
      "metadata": {
        "id": "hOBtapD90O6V"
      }
    },
    {
      "cell_type": "code",
      "source": [
        "if  \"at\" in \"cat\":\n",
        "  print(\"yes\")"
      ],
      "metadata": {
        "colab": {
          "base_uri": "https://localhost:8080/"
        },
        "id": "FiDcbIuvz_5M",
        "outputId": "83339ed0-703a-4338-c857-07e0481e6396"
      },
      "execution_count": 187,
      "outputs": [
        {
          "output_type": "stream",
          "name": "stdout",
          "text": [
            "yes\n"
          ]
        }
      ]
    },
    {
      "cell_type": "code",
      "source": [
        "if \"dt\" in \"cat\":\n",
        "  print(\"yes\")\n",
        "else:\n",
        "  print(\"no\")"
      ],
      "metadata": {
        "colab": {
          "base_uri": "https://localhost:8080/"
        },
        "id": "4d8leg-b0Jys",
        "outputId": "8c0fdf35-83fa-4dbb-fa20-3efd4a730e6a"
      },
      "execution_count": 188,
      "outputs": [
        {
          "output_type": "stream",
          "name": "stdout",
          "text": [
            "no\n"
          ]
        }
      ]
    },
    {
      "cell_type": "code",
      "source": [
        "if \"dt\" in \"cat\" or i == 1:\n",
        "  print(\"yes\")\n",
        "elif \"at\" in \"cat\":\n",
        "  print(\"only condition 1 is true\")\n",
        "else:\n",
        "  print('no')"
      ],
      "metadata": {
        "colab": {
          "base_uri": "https://localhost:8080/"
        },
        "id": "hSfi-IU80N3D",
        "outputId": "ba1461a1-3993-4369-dd31-2dfcac700079"
      },
      "execution_count": 189,
      "outputs": [
        {
          "output_type": "stream",
          "name": "stdout",
          "text": [
            "yes\n"
          ]
        }
      ]
    },
    {
      "cell_type": "code",
      "source": [
        "if 0:  # alwyas return False\n",
        "  print(\"yes\")"
      ],
      "metadata": {
        "id": "-zSng40j0tXg"
      },
      "execution_count": 190,
      "outputs": []
    },
    {
      "cell_type": "code",
      "source": [
        "if 3.89: # any positive or negative number is True\n",
        "  print(\"yes\")"
      ],
      "metadata": {
        "colab": {
          "base_uri": "https://localhost:8080/"
        },
        "id": "j6SfYRnE01vz",
        "outputId": "9d32cee9-9feb-4ece-b3c4-09f6f8ed73aa"
      },
      "execution_count": 191,
      "outputs": [
        {
          "output_type": "stream",
          "name": "stdout",
          "text": [
            "yes\n"
          ]
        }
      ]
    },
    {
      "cell_type": "code",
      "source": [
        "if -8.9:\n",
        "  print(\"yes\")"
      ],
      "metadata": {
        "colab": {
          "base_uri": "https://localhost:8080/"
        },
        "id": "cSvzQymH097C",
        "outputId": "48f688ea-2765-43ec-9d7f-e1b028c4f05b"
      },
      "execution_count": 192,
      "outputs": [
        {
          "output_type": "stream",
          "name": "stdout",
          "text": [
            "yes\n"
          ]
        }
      ]
    },
    {
      "cell_type": "markdown",
      "source": [
        "## **Problems**"
      ],
      "metadata": {
        "id": "k0eywYiX1Kkg"
      }
    },
    {
      "cell_type": "markdown",
      "source": [
        "### **Problem 1:**\n",
        "\n",
        "The equation for the height of a thrown ball is $$y = -{1 \\over 2} gt^2 + v_0t$$\n",
        "<ul>\n",
        "  <li>$t$ is time</li>\n",
        "  <li>$y$ is the height of the ball</li>\n",
        "  <li>$v_o$ is the initial upward speed of the ball</li>\n",
        "  <li>$g$ is gravity</li>\n",
        "</ul>\n",
        "\n",
        "Jim thrwos his ball at $10 m/s$ and Mark throws his at $15m/s$ upward. Plot the height of each of their ball as a function of $t$.\n",
        "\n"
      ],
      "metadata": {
        "id": "zXYzUuGy1R22"
      }
    },
    {
      "cell_type": "code",
      "source": [
        "t = np.linspace(0, 2, 100)\n",
        "g = 9.81\n",
        "v0_j = 10\n",
        "v0_m = 15"
      ],
      "metadata": {
        "id": "yNyzTmE51DZp"
      },
      "execution_count": 193,
      "outputs": []
    },
    {
      "cell_type": "code",
      "source": [
        "y_j = -1/2 * g * t**2 + v0_j * t\n",
        "y_m = -1/2 * g * t**2 + v0_m * t"
      ],
      "metadata": {
        "id": "r6X1_ox93OJn"
      },
      "execution_count": 194,
      "outputs": []
    },
    {
      "cell_type": "code",
      "source": [
        "plt.plot(t, y_j, label = \"Jim\")\n",
        "plt.plot(t, y_m, label= \"Mark\")\n",
        "plt.xlabel(\"Time\", fontsize=15)\n",
        "plt.ylabel(\"Height\", fontsize=15)\n",
        "plt.grid()\n",
        "plt.legend()"
      ],
      "metadata": {
        "colab": {
          "base_uri": "https://localhost:8080/",
          "height": 305
        },
        "id": "TJ-_0Bcn3fJ0",
        "outputId": "80f2bd02-c4e0-48bb-9763-ec3bf827ba6d"
      },
      "execution_count": 195,
      "outputs": [
        {
          "output_type": "execute_result",
          "data": {
            "text/plain": [
              "<matplotlib.legend.Legend at 0x7f924c9bb970>"
            ]
          },
          "metadata": {},
          "execution_count": 195
        },
        {
          "output_type": "display_data",
          "data": {
            "text/plain": [
              "<Figure size 432x288 with 1 Axes>"
            ],
            "image/png": "[encoded data removed]"
          },
          "metadata": {
            "needs_background": "light"
          }
        }
      ]
    },
    {
      "cell_type": "markdown",
      "source": [
        "###**Problem2:**"
      ],
      "metadata": {
        "id": "STglLitn4Pmx"
      }
    },
    {
      "cell_type": "markdown",
      "source": [
        "The problem below is organized such that each poem line is a new element in the list\n",
        "\n",
        "```\n",
        "peom = ['when day comes we ask ourselves,'\\\n",
        "            'where can we find light in this never-ending shade?',\\\n",
        "            'the loss we carry,',\\\n",
        "            'a sea we must wade',\\\n",
        "            \"we've braved the belly of the beast\",\\\n",
        "            ''we've learned that quiet isn't always peace\",\\\n",
        "            \"and the norms and notions\",\\\n",
        "            \"of what just is\"]\n",
        "```\n",
        "Loop through the lines of the poem, and if the line contains the substring 'we', then print 'line_contains we' where '__' is the line number.\n"
      ],
      "metadata": {
        "id": "mkgA7ah34VWz"
      }
    },
    {
      "cell_type": "code",
      "source": [
        "poem = ['when day comes we ask ourselves,',\n",
        "            'where can we find light in this never-ending shade?',\n",
        "            'the loss we carry,',\n",
        "            'a sea we must wade',\n",
        "            \"we've braved the belly of the beast\",\n",
        "            \"we've learned that quiet isn't always peace\",\n",
        "            \"and the norms and notions\",\n",
        "            \"of what just is\"]"
      ],
      "metadata": {
        "id": "OWz--1y13laG"
      },
      "execution_count": 196,
      "outputs": []
    },
    {
      "cell_type": "code",
      "source": [
        "poem[1]"
      ],
      "metadata": {
        "colab": {
          "base_uri": "https://localhost:8080/",
          "height": 37
        },
        "id": "_9Wo18bG6W6X",
        "outputId": "71f0e449-7952-46b3-b1a7-9efb60d26c24"
      },
      "execution_count": 197,
      "outputs": [
        {
          "output_type": "execute_result",
          "data": {
            "text/plain": [
              "'where can we find light in this never-ending shade?'"
            ],
            "application/vnd.google.colaboratory.intrinsic+json": {
              "type": "string"
            }
          },
          "metadata": {},
          "execution_count": 197
        }
      ]
    },
    {
      "cell_type": "code",
      "source": [
        "for i, line in enumerate(poem):\n",
        "  if \"we\" in line:\n",
        "    print(\"line {} contains we\".format(i))"
      ],
      "metadata": {
        "colab": {
          "base_uri": "https://localhost:8080/"
        },
        "id": "vOOfK5zR6rqQ",
        "outputId": "e5852b86-7cf2-482e-ee7d-3f3d30276b8c"
      },
      "execution_count": 198,
      "outputs": [
        {
          "output_type": "stream",
          "name": "stdout",
          "text": [
            "line 0 contains we\n",
            "line 1 contains we\n",
            "line 2 contains we\n",
            "line 3 contains we\n",
            "line 4 contains we\n",
            "line 5 contains we\n"
          ]
        }
      ]
    },
    {
      "cell_type": "markdown",
      "source": [
        "### Problem 3:"
      ],
      "metadata": {
        "id": "wx8dZhk47TXg"
      }
    },
    {
      "cell_type": "markdown",
      "source": [
        "Add up every number from 1 to 9, except for those that can be divided by 4, and those that can be divided by 6.\n",
        "\n",
        "(I changed the number from 999999 to 9 due to the compuational cost)."
      ],
      "metadata": {
        "id": "ePB00lJV7ZXe"
      }
    },
    {
      "cell_type": "code",
      "source": [
        "summation = 0\n",
        "for i in range(10):\n",
        "  if not (i%4 == 0) and not (i%6 == 0):\n",
        "    summation = summation + i\n",
        "print(summation)"
      ],
      "metadata": {
        "colab": {
          "base_uri": "https://localhost:8080/"
        },
        "id": "gXdRU3jW7MMe",
        "outputId": "b21c57ef-abee-47ff-85c7-e1b667dac941"
      },
      "execution_count": 199,
      "outputs": [
        {
          "output_type": "stream",
          "name": "stdout",
          "text": [
            "27\n"
          ]
        }
      ]
    }
  ]
}